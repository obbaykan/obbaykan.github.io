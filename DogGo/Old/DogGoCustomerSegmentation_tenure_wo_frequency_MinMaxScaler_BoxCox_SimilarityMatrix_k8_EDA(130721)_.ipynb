{
  "nbformat": 4,
  "nbformat_minor": 0,
  "metadata": {
    "colab": {
      "name": "DogGoCustomerSegmentation_tenure_wo_frequency_MinMaxScaler_BoxCox_SimilarityMatrix_k8_EDA(130721)_.ipynb",
      "provenance": [],
      "collapsed_sections": []
    },
    "kernelspec": {
      "name": "python3",
      "display_name": "Python 3"
    },
    "language_info": {
      "name": "python"
    }
  },
  "cells": [
    {
      "cell_type": "markdown",
      "metadata": {
        "id": "demNP8dwpJ_H"
      },
      "source": [
        "\n",
        "\n",
        "1.   Passive, HM, LR\n",
        "\n"
      ]
    },
    {
      "cell_type": "markdown",
      "metadata": {
        "id": "EVG3vUJuaEZy"
      },
      "source": [
        "# DogGo Customer Segmentation Project\n",
        "\n",
        "## Introduction\n",
        "DogGo is an application whose goal is to match dog owners and dog walkers. DogGO trains its dog walkers and matches them to the most appropriate dog and its owner. Associates of DogGo would like to be very good at matching and customer satisfaction. One of the steps of improving customer satisfaction is defining the different customer segmentations. For example, if it is known that which customer belongs to which cluster, a campaign can be organized directly to related customers. In order to reach the right customer in the right cluster, customer segmentation must be applied quite accurately.RFM analysis is one of the most common approach for customer segmentation. Values of recency, monetary and frequency that belong to customers are used for clustering. Tenure, which means lifetime of customer, can be used as fourth criteria as in this project. Clustering is carried out K-means and GMM algorithms in this project and clusters are labeled according to outputs\n",
        "\n",
        "## Approach\n",
        "\n",
        "DogGo collects the different types of data related to owners, dogs, walkers, etc. Walks Customer Segment and Owner datasets are the most proper two to cluster the customer. The Walks Customer Segment and the Owners datasets are merged, and it consists of 49 columns and 61,275 transactions.\n",
        "\n",
        "Firstly, the dataset is investigated to understand it, and data wrangling processes are carried out to get the dataset ready to model. As a next step, exploratory data analysis is completed to get some insights from the dataset.\n",
        "\n",
        "The standard deviation of the amount is so high when it compares with mean. The most spending customer affects the standard deviation, and this customer will not be taken into account because it is an outlier. The numbers less than 16.48 can be misleading amounts, and they affect the mean, and they will be replaced with the median of the amount. Then, two walk statuses are finished and canceled. Finished walks are used to calculate RFM because canceled walks are not proper transactions.\n",
        "\n",
        "RFM and tenure columns are generated using the part from the last year. However, the analysis will be repeated for each six months period and using whole data. The results and migration between clusters will be compared.\n",
        "\n",
        "Frequency and monetary are highly correlated, so frequency is excluded from RFM analysis. The analyses are completed using Recency, Monetary and Tenure features. Next, Recency, Monetary and Tenure features are tried to normalize using four different transformation methods: square root, reciprocal, log, and boxcox. All process failed, but the nearest values to normal distribution are obtained thanks to boxcox method. As a next step, Minmax scaler and Robust scaler are used to scale the data, and Minmax scaler gives better results.\n",
        "\n",
        "Clustering is carried out using K-means and GMM algorithms, and their results are plotted on two dimensions. PCA is used to convert from 3 to 2 dimensions. Different pairs are plotted to understand the differences of clusters such as tenure with recency or recency with monetary. The clusters are labelled according to descriptive values and visualizations such as plots mentioned above and snake plots.\n",
        "\n",
        "\n"
      ]
    },
    {
      "cell_type": "markdown",
      "metadata": {
        "id": "ys7sIwD5tH_F"
      },
      "source": [
        "## Pre-processing"
      ]
    },
    {
      "cell_type": "code",
      "metadata": {
        "id": "IPlFx1jRZnT5"
      },
      "source": [
        "import pandas as pd\n",
        "import numpy as np\n",
        "import matplotlib.pyplot as plt\n",
        "import seaborn as sns\n",
        "import statistics"
      ],
      "execution_count": null,
      "outputs": []
    },
    {
      "cell_type": "code",
      "metadata": {
        "id": "BdlXB1nmTVyC",
        "colab": {
          "base_uri": "https://localhost:8080/"
        },
        "outputId": "a91a51a2-097c-46af-b252-230472423091"
      },
      "source": [
        "from google.colab import drive\n",
        "drive.mount('/content/drive')"
      ],
      "execution_count": null,
      "outputs": [
        {
          "output_type": "stream",
          "text": [
            "Drive already mounted at /content/drive; to attempt to forcibly remount, call drive.mount(\"/content/drive\", force_remount=True).\n"
          ],
          "name": "stdout"
        }
      ]
    },
    {
      "cell_type": "code",
      "metadata": {
        "id": "l0QIQQSzZozs"
      },
      "source": [
        "df_owners = pd.read_excel(\"/content/drive/MyDrive/DogGo/owners.xlsx\")"
      ],
      "execution_count": null,
      "outputs": []
    },
    {
      "cell_type": "code",
      "metadata": {
        "id": "SzAs0npWmEnh"
      },
      "source": [
        "df = pd.read_excel(\"/content/drive/MyDrive/DogGo/walksCustomerSegment.xlsx\")"
      ],
      "execution_count": null,
      "outputs": []
    },
    {
      "cell_type": "code",
      "metadata": {
        "id": "aoDFm3_RmNrX"
      },
      "source": [
        "df = pd.merge(df, df_owners, left_on=\"ownerid\", right_on=\"id\", how='left')"
      ],
      "execution_count": null,
      "outputs": []
    },
    {
      "cell_type": "code",
      "metadata": {
        "id": "WFmYfLXXahcK",
        "colab": {
          "base_uri": "https://localhost:8080/",
          "height": 496
        },
        "outputId": "1314209e-d88b-49b2-f020-bac9faf6ccaf"
      },
      "source": [
        "df.head()"
      ],
      "execution_count": null,
      "outputs": [
        {
          "output_type": "execute_result",
          "data": {
            "text/html": [
              "<div>\n",
              "<style scoped>\n",
              "    .dataframe tbody tr th:only-of-type {\n",
              "        vertical-align: middle;\n",
              "    }\n",
              "\n",
              "    .dataframe tbody tr th {\n",
              "        vertical-align: top;\n",
              "    }\n",
              "\n",
              "    .dataframe thead th {\n",
              "        text-align: right;\n",
              "    }\n",
              "</style>\n",
              "<table border=\"1\" class=\"dataframe\">\n",
              "  <thead>\n",
              "    <tr style=\"text-align: right;\">\n",
              "      <th></th>\n",
              "      <th>Unnamed: 0_x</th>\n",
              "      <th>Unnamed: 0.1_x</th>\n",
              "      <th>Unnamed: 0.1.1</th>\n",
              "      <th>Unnamed: 0.1.1.1</th>\n",
              "      <th>Unnamed: 0.1.1.1.1</th>\n",
              "      <th>ownerid</th>\n",
              "      <th>walkingid</th>\n",
              "      <th>walkid</th>\n",
              "      <th>walkerid</th>\n",
              "      <th>dogid</th>\n",
              "      <th>paymentid</th>\n",
              "      <th>walkingtype</th>\n",
              "      <th>walkstatus</th>\n",
              "      <th>duration</th>\n",
              "      <th>ordercreatedtime</th>\n",
              "      <th>checkintime</th>\n",
              "      <th>confirmtime</th>\n",
              "      <th>matchtime</th>\n",
              "      <th>starttime</th>\n",
              "      <th>endtime</th>\n",
              "      <th>cancelledby</th>\n",
              "      <th>cancelreason</th>\n",
              "      <th>heat</th>\n",
              "      <th>walkgroup</th>\n",
              "      <th>distance</th>\n",
              "      <th>district</th>\n",
              "      <th>neighborhood</th>\n",
              "      <th>walkerF_commWithPeople</th>\n",
              "      <th>walkerF_commWithPariahDog</th>\n",
              "      <th>walkerF_commWithStreetCat</th>\n",
              "      <th>walkerF_goodPath</th>\n",
              "      <th>walkerF_walkWithDogAgain</th>\n",
              "      <th>walkerF_note</th>\n",
              "      <th>ownerF_commWithMe</th>\n",
              "      <th>ownerF_commWithDog</th>\n",
              "      <th>ownerF_timeAccuracy</th>\n",
              "      <th>ownerF_appPerformance</th>\n",
              "      <th>ownerF_note</th>\n",
              "      <th>paymentstatus</th>\n",
              "      <th>paymenttype</th>\n",
              "      <th>amount</th>\n",
              "      <th>discount</th>\n",
              "      <th>walkerincome</th>\n",
              "      <th>promocodeid</th>\n",
              "      <th>finishtime</th>\n",
              "      <th>Unnamed: 0_y</th>\n",
              "      <th>Unnamed: 0.1_y</th>\n",
              "      <th>id</th>\n",
              "      <th>mgapplytime</th>\n",
              "      <th>signuptime</th>\n",
              "      <th>firstdogaddedtime</th>\n",
              "    </tr>\n",
              "  </thead>\n",
              "  <tbody>\n",
              "    <tr>\n",
              "      <th>0</th>\n",
              "      <td>0</td>\n",
              "      <td>0</td>\n",
              "      <td>0</td>\n",
              "      <td>0</td>\n",
              "      <td>61000</td>\n",
              "      <td>00d2941f-7e9f-4422-a662-2d9012607d35</td>\n",
              "      <td>810c2b91-3962-4a46-9d2c-0b8d2466476c</td>\n",
              "      <td>810c2b91-3962-4a46-9d2c-0b8d2466476c</td>\n",
              "      <td>5b15dbef-554c-4e9d-8e78-29b034cdcb25</td>\n",
              "      <td>436db8e3-981c-4c74-97b8-a2ecbbed07a2</td>\n",
              "      <td>b0095c6f-e810-4d53-94ba-4edd1e852bb4</td>\n",
              "      <td>Boarding</td>\n",
              "      <td>Finished</td>\n",
              "      <td>NaN</td>\n",
              "      <td>2021-02-09 21:24:14.228</td>\n",
              "      <td>2021-02-12 03:00:00</td>\n",
              "      <td>2021-02-12 05:50:24.404</td>\n",
              "      <td>2021-02-10 09:48:06.177</td>\n",
              "      <td>2021-02-12 12:07:05.207</td>\n",
              "      <td>NaT</td>\n",
              "      <td>NaN</td>\n",
              "      <td>NaN</td>\n",
              "      <td>NaN</td>\n",
              "      <td>NaN</td>\n",
              "      <td>NaN</td>\n",
              "      <td>Kağıthane</td>\n",
              "      <td>Çeliktepe</td>\n",
              "      <td>NaN</td>\n",
              "      <td>NaN</td>\n",
              "      <td>NaN</td>\n",
              "      <td>NaN</td>\n",
              "      <td>NaN</td>\n",
              "      <td>NaN</td>\n",
              "      <td>NaN</td>\n",
              "      <td>NaN</td>\n",
              "      <td>NaN</td>\n",
              "      <td>NaN</td>\n",
              "      <td>NaN</td>\n",
              "      <td>Approved</td>\n",
              "      <td>Paid</td>\n",
              "      <td>89.900000</td>\n",
              "      <td>0.0</td>\n",
              "      <td>120.46</td>\n",
              "      <td>NaN</td>\n",
              "      <td>2021-02-14 17:20:28.268</td>\n",
              "      <td>27378.0</td>\n",
              "      <td>27378.0</td>\n",
              "      <td>00d2941f-7e9f-4422-a662-2d9012607d35</td>\n",
              "      <td>2021-01-13 13:25:43.583</td>\n",
              "      <td>2020-11-22 19:05:28.360</td>\n",
              "      <td>2020-11-22 19:11:03.686</td>\n",
              "    </tr>\n",
              "    <tr>\n",
              "      <th>1</th>\n",
              "      <td>1</td>\n",
              "      <td>1</td>\n",
              "      <td>1</td>\n",
              "      <td>1</td>\n",
              "      <td>61001</td>\n",
              "      <td>00d2941f-7e9f-4422-a662-2d9012607d35</td>\n",
              "      <td>810c2b91-3962-4a46-9d2c-0b8d2466476c</td>\n",
              "      <td>810c2b91-3962-4a46-9d2c-0b8d2466476c</td>\n",
              "      <td>5b15dbef-554c-4e9d-8e78-29b034cdcb25</td>\n",
              "      <td>436db8e3-981c-4c74-97b8-a2ecbbed07a2</td>\n",
              "      <td>b0095c6f-e810-4d53-94ba-4edd1e852bb4</td>\n",
              "      <td>Boarding</td>\n",
              "      <td>Finished</td>\n",
              "      <td>NaN</td>\n",
              "      <td>2021-02-09 21:24:14.228</td>\n",
              "      <td>2021-02-13 03:00:00</td>\n",
              "      <td>2021-02-12 05:50:24.404</td>\n",
              "      <td>2021-02-10 09:48:06.177</td>\n",
              "      <td>2021-02-12 12:07:05.207</td>\n",
              "      <td>NaT</td>\n",
              "      <td>NaN</td>\n",
              "      <td>NaN</td>\n",
              "      <td>NaN</td>\n",
              "      <td>NaN</td>\n",
              "      <td>NaN</td>\n",
              "      <td>Kağıthane</td>\n",
              "      <td>Çeliktepe</td>\n",
              "      <td>NaN</td>\n",
              "      <td>NaN</td>\n",
              "      <td>NaN</td>\n",
              "      <td>NaN</td>\n",
              "      <td>NaN</td>\n",
              "      <td>NaN</td>\n",
              "      <td>NaN</td>\n",
              "      <td>NaN</td>\n",
              "      <td>NaN</td>\n",
              "      <td>NaN</td>\n",
              "      <td>NaN</td>\n",
              "      <td>Approved</td>\n",
              "      <td>Paid</td>\n",
              "      <td>89.900000</td>\n",
              "      <td>0.0</td>\n",
              "      <td>120.46</td>\n",
              "      <td>NaN</td>\n",
              "      <td>2021-02-14 17:20:28.268</td>\n",
              "      <td>27378.0</td>\n",
              "      <td>27378.0</td>\n",
              "      <td>00d2941f-7e9f-4422-a662-2d9012607d35</td>\n",
              "      <td>2021-01-13 13:25:43.583</td>\n",
              "      <td>2020-11-22 19:05:28.360</td>\n",
              "      <td>2020-11-22 19:11:03.686</td>\n",
              "    </tr>\n",
              "    <tr>\n",
              "      <th>2</th>\n",
              "      <td>2</td>\n",
              "      <td>2</td>\n",
              "      <td>2</td>\n",
              "      <td>2</td>\n",
              "      <td>61002</td>\n",
              "      <td>016038b4-2391-44d7-9391-7d622f537ac5</td>\n",
              "      <td>437d9524-c3b9-4491-adae-6e5d21a4d1cd</td>\n",
              "      <td>437d9524-c3b9-4491-adae-6e5d21a4d1cd</td>\n",
              "      <td>b71ffc33-0dab-4c92-bb6e-8e16e2b3d980</td>\n",
              "      <td>576a59c0-fc12-427c-ab02-c1b2b4c6ede1</td>\n",
              "      <td>fcf25ec2-0153-49c1-ad88-43464b1a4a58</td>\n",
              "      <td>Boarding</td>\n",
              "      <td>Finished</td>\n",
              "      <td>NaN</td>\n",
              "      <td>2020-11-02 13:36:46.512</td>\n",
              "      <td>2020-11-15 03:00:00</td>\n",
              "      <td>2020-11-12 12:51:06.849</td>\n",
              "      <td>2020-11-10 12:23:38.922</td>\n",
              "      <td>2020-11-13 14:20:16.152</td>\n",
              "      <td>NaT</td>\n",
              "      <td>NaN</td>\n",
              "      <td>NaN</td>\n",
              "      <td>NaN</td>\n",
              "      <td>NaN</td>\n",
              "      <td>NaN</td>\n",
              "      <td>Kadıköy</td>\n",
              "      <td>Fenerbahçe</td>\n",
              "      <td>NaN</td>\n",
              "      <td>NaN</td>\n",
              "      <td>NaN</td>\n",
              "      <td>NaN</td>\n",
              "      <td>NaN</td>\n",
              "      <td>NaN</td>\n",
              "      <td>NaN</td>\n",
              "      <td>NaN</td>\n",
              "      <td>NaN</td>\n",
              "      <td>NaN</td>\n",
              "      <td>NaN</td>\n",
              "      <td>Approved</td>\n",
              "      <td>Paid</td>\n",
              "      <td>154.285714</td>\n",
              "      <td>0.0</td>\n",
              "      <td>800.00</td>\n",
              "      <td>NaN</td>\n",
              "      <td>2020-11-20 14:41:09.625</td>\n",
              "      <td>9818.0</td>\n",
              "      <td>9818.0</td>\n",
              "      <td>016038b4-2391-44d7-9391-7d622f537ac5</td>\n",
              "      <td>NaT</td>\n",
              "      <td>2020-11-02 12:42:20.316</td>\n",
              "      <td>2020-11-02 12:52:48.225</td>\n",
              "    </tr>\n",
              "    <tr>\n",
              "      <th>3</th>\n",
              "      <td>3</td>\n",
              "      <td>3</td>\n",
              "      <td>3</td>\n",
              "      <td>3</td>\n",
              "      <td>61003</td>\n",
              "      <td>016038b4-2391-44d7-9391-7d622f537ac5</td>\n",
              "      <td>437d9524-c3b9-4491-adae-6e5d21a4d1cd</td>\n",
              "      <td>437d9524-c3b9-4491-adae-6e5d21a4d1cd</td>\n",
              "      <td>b71ffc33-0dab-4c92-bb6e-8e16e2b3d980</td>\n",
              "      <td>576a59c0-fc12-427c-ab02-c1b2b4c6ede1</td>\n",
              "      <td>fcf25ec2-0153-49c1-ad88-43464b1a4a58</td>\n",
              "      <td>Boarding</td>\n",
              "      <td>Finished</td>\n",
              "      <td>NaN</td>\n",
              "      <td>2020-11-02 13:36:46.512</td>\n",
              "      <td>2020-11-16 03:00:00</td>\n",
              "      <td>2020-11-12 12:51:06.849</td>\n",
              "      <td>2020-11-10 12:23:38.922</td>\n",
              "      <td>2020-11-13 14:20:16.152</td>\n",
              "      <td>NaT</td>\n",
              "      <td>NaN</td>\n",
              "      <td>NaN</td>\n",
              "      <td>NaN</td>\n",
              "      <td>NaN</td>\n",
              "      <td>NaN</td>\n",
              "      <td>Kadıköy</td>\n",
              "      <td>Fenerbahçe</td>\n",
              "      <td>NaN</td>\n",
              "      <td>NaN</td>\n",
              "      <td>NaN</td>\n",
              "      <td>NaN</td>\n",
              "      <td>NaN</td>\n",
              "      <td>NaN</td>\n",
              "      <td>NaN</td>\n",
              "      <td>NaN</td>\n",
              "      <td>NaN</td>\n",
              "      <td>NaN</td>\n",
              "      <td>NaN</td>\n",
              "      <td>Approved</td>\n",
              "      <td>Paid</td>\n",
              "      <td>154.285714</td>\n",
              "      <td>0.0</td>\n",
              "      <td>800.00</td>\n",
              "      <td>NaN</td>\n",
              "      <td>2020-11-20 14:41:09.625</td>\n",
              "      <td>9818.0</td>\n",
              "      <td>9818.0</td>\n",
              "      <td>016038b4-2391-44d7-9391-7d622f537ac5</td>\n",
              "      <td>NaT</td>\n",
              "      <td>2020-11-02 12:42:20.316</td>\n",
              "      <td>2020-11-02 12:52:48.225</td>\n",
              "    </tr>\n",
              "    <tr>\n",
              "      <th>4</th>\n",
              "      <td>4</td>\n",
              "      <td>4</td>\n",
              "      <td>4</td>\n",
              "      <td>4</td>\n",
              "      <td>61004</td>\n",
              "      <td>016038b4-2391-44d7-9391-7d622f537ac5</td>\n",
              "      <td>437d9524-c3b9-4491-adae-6e5d21a4d1cd</td>\n",
              "      <td>437d9524-c3b9-4491-adae-6e5d21a4d1cd</td>\n",
              "      <td>b71ffc33-0dab-4c92-bb6e-8e16e2b3d980</td>\n",
              "      <td>576a59c0-fc12-427c-ab02-c1b2b4c6ede1</td>\n",
              "      <td>fcf25ec2-0153-49c1-ad88-43464b1a4a58</td>\n",
              "      <td>Boarding</td>\n",
              "      <td>Finished</td>\n",
              "      <td>NaN</td>\n",
              "      <td>2020-11-02 13:36:46.512</td>\n",
              "      <td>2020-11-17 03:00:00</td>\n",
              "      <td>2020-11-12 12:51:06.849</td>\n",
              "      <td>2020-11-10 12:23:38.922</td>\n",
              "      <td>2020-11-13 14:20:16.152</td>\n",
              "      <td>NaT</td>\n",
              "      <td>NaN</td>\n",
              "      <td>NaN</td>\n",
              "      <td>NaN</td>\n",
              "      <td>NaN</td>\n",
              "      <td>NaN</td>\n",
              "      <td>Kadıköy</td>\n",
              "      <td>Fenerbahçe</td>\n",
              "      <td>NaN</td>\n",
              "      <td>NaN</td>\n",
              "      <td>NaN</td>\n",
              "      <td>NaN</td>\n",
              "      <td>NaN</td>\n",
              "      <td>NaN</td>\n",
              "      <td>NaN</td>\n",
              "      <td>NaN</td>\n",
              "      <td>NaN</td>\n",
              "      <td>NaN</td>\n",
              "      <td>NaN</td>\n",
              "      <td>Approved</td>\n",
              "      <td>Paid</td>\n",
              "      <td>154.285714</td>\n",
              "      <td>0.0</td>\n",
              "      <td>800.00</td>\n",
              "      <td>NaN</td>\n",
              "      <td>2020-11-20 14:41:09.625</td>\n",
              "      <td>9818.0</td>\n",
              "      <td>9818.0</td>\n",
              "      <td>016038b4-2391-44d7-9391-7d622f537ac5</td>\n",
              "      <td>NaT</td>\n",
              "      <td>2020-11-02 12:42:20.316</td>\n",
              "      <td>2020-11-02 12:52:48.225</td>\n",
              "    </tr>\n",
              "  </tbody>\n",
              "</table>\n",
              "</div>"
            ],
            "text/plain": [
              "   Unnamed: 0_x  Unnamed: 0.1_x  ...              signuptime       firstdogaddedtime\n",
              "0             0               0  ... 2020-11-22 19:05:28.360 2020-11-22 19:11:03.686\n",
              "1             1               1  ... 2020-11-22 19:05:28.360 2020-11-22 19:11:03.686\n",
              "2             2               2  ... 2020-11-02 12:42:20.316 2020-11-02 12:52:48.225\n",
              "3             3               3  ... 2020-11-02 12:42:20.316 2020-11-02 12:52:48.225\n",
              "4             4               4  ... 2020-11-02 12:42:20.316 2020-11-02 12:52:48.225\n",
              "\n",
              "[5 rows x 51 columns]"
            ]
          },
          "metadata": {
            "tags": []
          },
          "execution_count": 38
        }
      ]
    },
    {
      "cell_type": "code",
      "metadata": {
        "id": "zcwFB2yGdBr3",
        "colab": {
          "base_uri": "https://localhost:8080/"
        },
        "outputId": "87cd00d7-a28c-403f-d237-1ff8eb6becda"
      },
      "source": [
        "df.shape"
      ],
      "execution_count": null,
      "outputs": [
        {
          "output_type": "execute_result",
          "data": {
            "text/plain": [
              "(64565, 51)"
            ]
          },
          "metadata": {
            "tags": []
          },
          "execution_count": 39
        }
      ]
    },
    {
      "cell_type": "markdown",
      "metadata": {
        "id": "73ivqg1NtleX"
      },
      "source": [
        "### Missing Values\n",
        "Detecting missing values is important because missing values can be effect the RFM creating proceses and customer segmentation. Each variable is not necessary to create RFM. The most important columns are ownerid, walkingid, checkintime and amount. They will be used to crate recency, frequency and monetary columns. There is no missing value in those variables."
      ]
    },
    {
      "cell_type": "code",
      "metadata": {
        "id": "7JK4_Dz4andS",
        "colab": {
          "base_uri": "https://localhost:8080/"
        },
        "outputId": "33241886-2328-4096-c401-a48f004f3a61"
      },
      "source": [
        "#checking the missing values\n",
        "\n",
        "df.isna().sum()"
      ],
      "execution_count": null,
      "outputs": [
        {
          "output_type": "execute_result",
          "data": {
            "text/plain": [
              "Unnamed: 0_x                     0\n",
              "Unnamed: 0.1_x                   0\n",
              "Unnamed: 0.1.1                   0\n",
              "Unnamed: 0.1.1.1                 0\n",
              "Unnamed: 0.1.1.1.1               0\n",
              "ownerid                          0\n",
              "walkingid                        0\n",
              "walkid                           0\n",
              "walkerid                      1121\n",
              "dogid                            0\n",
              "paymentid                        0\n",
              "walkingtype                      0\n",
              "walkstatus                       0\n",
              "duration                       275\n",
              "ordercreatedtime                 0\n",
              "checkintime                      0\n",
              "confirmtime                  13429\n",
              "matchtime                    59753\n",
              "starttime                     1143\n",
              "endtime                       1418\n",
              "cancelledby                  63419\n",
              "cancelreason                 63421\n",
              "heat                          1418\n",
              "walkgroup                    19875\n",
              "distance                      1367\n",
              "district                         0\n",
              "neighborhood                 43809\n",
              "walkerF_commWithPeople       56791\n",
              "walkerF_commWithPariahDog    56791\n",
              "walkerF_commWithStreetCat    56791\n",
              "walkerF_goodPath             56791\n",
              "walkerF_walkWithDogAgain     56791\n",
              "walkerF_note                 63392\n",
              "ownerF_commWithMe            60087\n",
              "ownerF_commWithDog           60087\n",
              "ownerF_timeAccuracy          60087\n",
              "ownerF_appPerformance        60087\n",
              "ownerF_note                  64035\n",
              "paymentstatus                 1852\n",
              "paymenttype                   1852\n",
              "amount                           0\n",
              "discount                      1852\n",
              "walkerincome                  1852\n",
              "promocodeid                  59124\n",
              "finishtime                   64290\n",
              "Unnamed: 0_y                   358\n",
              "Unnamed: 0.1_y                 358\n",
              "id                             358\n",
              "mgapplytime                  48969\n",
              "signuptime                     386\n",
              "firstdogaddedtime              465\n",
              "dtype: int64"
            ]
          },
          "metadata": {
            "tags": []
          },
          "execution_count": 40
        }
      ]
    },
    {
      "cell_type": "code",
      "metadata": {
        "id": "1vl59-PqfxZj",
        "colab": {
          "base_uri": "https://localhost:8080/"
        },
        "outputId": "ad1ddeb1-6aec-49ba-be53-f03cb1110363"
      },
      "source": [
        "df.info()"
      ],
      "execution_count": null,
      "outputs": [
        {
          "output_type": "stream",
          "text": [
            "<class 'pandas.core.frame.DataFrame'>\n",
            "Int64Index: 64565 entries, 0 to 64564\n",
            "Data columns (total 51 columns):\n",
            " #   Column                     Non-Null Count  Dtype         \n",
            "---  ------                     --------------  -----         \n",
            " 0   Unnamed: 0_x               64565 non-null  int64         \n",
            " 1   Unnamed: 0.1_x             64565 non-null  int64         \n",
            " 2   Unnamed: 0.1.1             64565 non-null  int64         \n",
            " 3   Unnamed: 0.1.1.1           64565 non-null  int64         \n",
            " 4   Unnamed: 0.1.1.1.1         64565 non-null  int64         \n",
            " 5   ownerid                    64565 non-null  object        \n",
            " 6   walkingid                  64565 non-null  object        \n",
            " 7   walkid                     64565 non-null  object        \n",
            " 8   walkerid                   63444 non-null  object        \n",
            " 9   dogid                      64565 non-null  object        \n",
            " 10  paymentid                  64565 non-null  object        \n",
            " 11  walkingtype                64565 non-null  object        \n",
            " 12  walkstatus                 64565 non-null  object        \n",
            " 13  duration                   64290 non-null  float64       \n",
            " 14  ordercreatedtime           64565 non-null  datetime64[ns]\n",
            " 15  checkintime                64565 non-null  datetime64[ns]\n",
            " 16  confirmtime                51136 non-null  datetime64[ns]\n",
            " 17  matchtime                  4812 non-null   datetime64[ns]\n",
            " 18  starttime                  63422 non-null  datetime64[ns]\n",
            " 19  endtime                    63147 non-null  datetime64[ns]\n",
            " 20  cancelledby                1146 non-null   object        \n",
            " 21  cancelreason               1144 non-null   object        \n",
            " 22  heat                       63147 non-null  object        \n",
            " 23  walkgroup                  44690 non-null  object        \n",
            " 24  distance                   63198 non-null  float64       \n",
            " 25  district                   64565 non-null  object        \n",
            " 26  neighborhood               20756 non-null  object        \n",
            " 27  walkerF_commWithPeople     7774 non-null   float64       \n",
            " 28  walkerF_commWithPariahDog  7774 non-null   float64       \n",
            " 29  walkerF_commWithStreetCat  7774 non-null   float64       \n",
            " 30  walkerF_goodPath           7774 non-null   float64       \n",
            " 31  walkerF_walkWithDogAgain   7774 non-null   float64       \n",
            " 32  walkerF_note               1173 non-null   object        \n",
            " 33  ownerF_commWithMe          4478 non-null   float64       \n",
            " 34  ownerF_commWithDog         4478 non-null   float64       \n",
            " 35  ownerF_timeAccuracy        4478 non-null   float64       \n",
            " 36  ownerF_appPerformance      4478 non-null   float64       \n",
            " 37  ownerF_note                530 non-null    object        \n",
            " 38  paymentstatus              62713 non-null  object        \n",
            " 39  paymenttype                62713 non-null  object        \n",
            " 40  amount                     64565 non-null  float64       \n",
            " 41  discount                   62713 non-null  float64       \n",
            " 42  walkerincome               62713 non-null  float64       \n",
            " 43  promocodeid                5441 non-null   object        \n",
            " 44  finishtime                 275 non-null    datetime64[ns]\n",
            " 45  Unnamed: 0_y               64207 non-null  float64       \n",
            " 46  Unnamed: 0.1_y             64207 non-null  float64       \n",
            " 47  id                         64207 non-null  object        \n",
            " 48  mgapplytime                15596 non-null  datetime64[ns]\n",
            " 49  signuptime                 64179 non-null  datetime64[ns]\n",
            " 50  firstdogaddedtime          64100 non-null  datetime64[ns]\n",
            "dtypes: datetime64[ns](10), float64(16), int64(5), object(20)\n",
            "memory usage: 25.6+ MB\n"
          ],
          "name": "stdout"
        }
      ]
    },
    {
      "cell_type": "code",
      "metadata": {
        "id": "Ye8o9Y96yYYT",
        "colab": {
          "base_uri": "https://localhost:8080/"
        },
        "outputId": "ff7dcf9b-b91e-4c1b-cbeb-219550b39faf"
      },
      "source": [
        "unnamed_cols = [col for col in df.columns if 'Unnamed: ' in col]\n",
        "print(unnamed_cols)"
      ],
      "execution_count": null,
      "outputs": [
        {
          "output_type": "stream",
          "text": [
            "['Unnamed: 0_x', 'Unnamed: 0.1_x', 'Unnamed: 0.1.1', 'Unnamed: 0.1.1.1', 'Unnamed: 0.1.1.1.1', 'Unnamed: 0_y', 'Unnamed: 0.1_y']\n"
          ],
          "name": "stdout"
        }
      ]
    },
    {
      "cell_type": "code",
      "metadata": {
        "id": "xNkTbstxg7bb"
      },
      "source": [
        "df = df.drop(unnamed_cols, axis=1)"
      ],
      "execution_count": null,
      "outputs": []
    },
    {
      "cell_type": "code",
      "metadata": {
        "id": "zTmFdRdWgtMq",
        "colab": {
          "base_uri": "https://localhost:8080/",
          "height": 317
        },
        "outputId": "817c8751-12a3-4b7f-822a-6cb03a5879b6"
      },
      "source": [
        "df.describe()"
      ],
      "execution_count": null,
      "outputs": [
        {
          "output_type": "execute_result",
          "data": {
            "text/html": [
              "<div>\n",
              "<style scoped>\n",
              "    .dataframe tbody tr th:only-of-type {\n",
              "        vertical-align: middle;\n",
              "    }\n",
              "\n",
              "    .dataframe tbody tr th {\n",
              "        vertical-align: top;\n",
              "    }\n",
              "\n",
              "    .dataframe thead th {\n",
              "        text-align: right;\n",
              "    }\n",
              "</style>\n",
              "<table border=\"1\" class=\"dataframe\">\n",
              "  <thead>\n",
              "    <tr style=\"text-align: right;\">\n",
              "      <th></th>\n",
              "      <th>duration</th>\n",
              "      <th>distance</th>\n",
              "      <th>walkerF_commWithPeople</th>\n",
              "      <th>walkerF_commWithPariahDog</th>\n",
              "      <th>walkerF_commWithStreetCat</th>\n",
              "      <th>walkerF_goodPath</th>\n",
              "      <th>walkerF_walkWithDogAgain</th>\n",
              "      <th>ownerF_commWithMe</th>\n",
              "      <th>ownerF_commWithDog</th>\n",
              "      <th>ownerF_timeAccuracy</th>\n",
              "      <th>ownerF_appPerformance</th>\n",
              "      <th>amount</th>\n",
              "      <th>discount</th>\n",
              "      <th>walkerincome</th>\n",
              "    </tr>\n",
              "  </thead>\n",
              "  <tbody>\n",
              "    <tr>\n",
              "      <th>count</th>\n",
              "      <td>64290.0</td>\n",
              "      <td>63198.000000</td>\n",
              "      <td>7774.000000</td>\n",
              "      <td>7774.000000</td>\n",
              "      <td>7774.000000</td>\n",
              "      <td>7774.000000</td>\n",
              "      <td>7774.000000</td>\n",
              "      <td>4478.000000</td>\n",
              "      <td>4478.000000</td>\n",
              "      <td>4478.000000</td>\n",
              "      <td>4478.000000</td>\n",
              "      <td>64565.000000</td>\n",
              "      <td>62713.000000</td>\n",
              "      <td>62713.000000</td>\n",
              "    </tr>\n",
              "    <tr>\n",
              "      <th>mean</th>\n",
              "      <td>45.0</td>\n",
              "      <td>5.418176</td>\n",
              "      <td>0.978647</td>\n",
              "      <td>0.852843</td>\n",
              "      <td>0.845897</td>\n",
              "      <td>0.953692</td>\n",
              "      <td>0.974273</td>\n",
              "      <td>0.991961</td>\n",
              "      <td>0.989058</td>\n",
              "      <td>0.987271</td>\n",
              "      <td>0.980348</td>\n",
              "      <td>26.251791</td>\n",
              "      <td>14.773813</td>\n",
              "      <td>17.658943</td>\n",
              "    </tr>\n",
              "    <tr>\n",
              "      <th>std</th>\n",
              "      <td>0.0</td>\n",
              "      <td>166.602915</td>\n",
              "      <td>0.144568</td>\n",
              "      <td>0.354285</td>\n",
              "      <td>0.361071</td>\n",
              "      <td>0.210165</td>\n",
              "      <td>0.158329</td>\n",
              "      <td>0.089311</td>\n",
              "      <td>0.104044</td>\n",
              "      <td>0.112115</td>\n",
              "      <td>0.138816</td>\n",
              "      <td>6.793103</td>\n",
              "      <td>101.021468</td>\n",
              "      <td>21.483709</td>\n",
              "    </tr>\n",
              "    <tr>\n",
              "      <th>min</th>\n",
              "      <td>45.0</td>\n",
              "      <td>0.000000</td>\n",
              "      <td>0.000000</td>\n",
              "      <td>0.000000</td>\n",
              "      <td>0.000000</td>\n",
              "      <td>0.000000</td>\n",
              "      <td>0.000000</td>\n",
              "      <td>0.000000</td>\n",
              "      <td>0.000000</td>\n",
              "      <td>0.000000</td>\n",
              "      <td>0.000000</td>\n",
              "      <td>1.000000</td>\n",
              "      <td>0.000000</td>\n",
              "      <td>0.000000</td>\n",
              "    </tr>\n",
              "    <tr>\n",
              "      <th>25%</th>\n",
              "      <td>45.0</td>\n",
              "      <td>0.864714</td>\n",
              "      <td>1.000000</td>\n",
              "      <td>1.000000</td>\n",
              "      <td>1.000000</td>\n",
              "      <td>1.000000</td>\n",
              "      <td>1.000000</td>\n",
              "      <td>1.000000</td>\n",
              "      <td>1.000000</td>\n",
              "      <td>1.000000</td>\n",
              "      <td>1.000000</td>\n",
              "      <td>20.000000</td>\n",
              "      <td>0.000000</td>\n",
              "      <td>15.000000</td>\n",
              "    </tr>\n",
              "    <tr>\n",
              "      <th>50%</th>\n",
              "      <td>45.0</td>\n",
              "      <td>1.744401</td>\n",
              "      <td>1.000000</td>\n",
              "      <td>1.000000</td>\n",
              "      <td>1.000000</td>\n",
              "      <td>1.000000</td>\n",
              "      <td>1.000000</td>\n",
              "      <td>1.000000</td>\n",
              "      <td>1.000000</td>\n",
              "      <td>1.000000</td>\n",
              "      <td>1.000000</td>\n",
              "      <td>25.000000</td>\n",
              "      <td>0.000000</td>\n",
              "      <td>15.250000</td>\n",
              "    </tr>\n",
              "    <tr>\n",
              "      <th>75%</th>\n",
              "      <td>45.0</td>\n",
              "      <td>2.599516</td>\n",
              "      <td>1.000000</td>\n",
              "      <td>1.000000</td>\n",
              "      <td>1.000000</td>\n",
              "      <td>1.000000</td>\n",
              "      <td>1.000000</td>\n",
              "      <td>1.000000</td>\n",
              "      <td>1.000000</td>\n",
              "      <td>1.000000</td>\n",
              "      <td>1.000000</td>\n",
              "      <td>29.900000</td>\n",
              "      <td>0.000000</td>\n",
              "      <td>17.100000</td>\n",
              "    </tr>\n",
              "    <tr>\n",
              "      <th>max</th>\n",
              "      <td>45.0</td>\n",
              "      <td>10239.525872</td>\n",
              "      <td>1.000000</td>\n",
              "      <td>1.000000</td>\n",
              "      <td>1.000000</td>\n",
              "      <td>1.000000</td>\n",
              "      <td>1.000000</td>\n",
              "      <td>1.000000</td>\n",
              "      <td>1.000000</td>\n",
              "      <td>1.000000</td>\n",
              "      <td>1.000000</td>\n",
              "      <td>168.750000</td>\n",
              "      <td>1120.000000</td>\n",
              "      <td>1050.000000</td>\n",
              "    </tr>\n",
              "  </tbody>\n",
              "</table>\n",
              "</div>"
            ],
            "text/plain": [
              "       duration      distance  ...      discount  walkerincome\n",
              "count   64290.0  63198.000000  ...  62713.000000  62713.000000\n",
              "mean       45.0      5.418176  ...     14.773813     17.658943\n",
              "std         0.0    166.602915  ...    101.021468     21.483709\n",
              "min        45.0      0.000000  ...      0.000000      0.000000\n",
              "25%        45.0      0.864714  ...      0.000000     15.000000\n",
              "50%        45.0      1.744401  ...      0.000000     15.250000\n",
              "75%        45.0      2.599516  ...      0.000000     17.100000\n",
              "max        45.0  10239.525872  ...   1120.000000   1050.000000\n",
              "\n",
              "[8 rows x 14 columns]"
            ]
          },
          "metadata": {
            "tags": []
          },
          "execution_count": 44
        }
      ]
    },
    {
      "cell_type": "markdown",
      "metadata": {
        "id": "eUJjOg9vyQ_t"
      },
      "source": [
        "## Exploratory Data Analysis\n",
        "In this part, data visualization will be carried out to understand datasets deeply. According to insights extracted from graphs, necessary corrections can be made. If there is a correction or change, it will be explained below the related graph or code."
      ]
    },
    {
      "cell_type": "code",
      "metadata": {
        "id": "xrXwO9nA19r7"
      },
      "source": [
        "owner_first10 = (df[\"ownerid\"].value_counts(sort= True).head(10))\n"
      ],
      "execution_count": null,
      "outputs": []
    },
    {
      "cell_type": "code",
      "metadata": {
        "id": "i_lzynJD1v-N"
      },
      "source": [
        "owner_first10_total = owner_first10.sum()\n"
      ],
      "execution_count": null,
      "outputs": []
    },
    {
      "cell_type": "code",
      "metadata": {
        "id": "FWFwBD-0VqIr",
        "colab": {
          "base_uri": "https://localhost:8080/",
          "height": 724
        },
        "outputId": "5dda1a54-8838-41e3-dcdb-04a9c1ae05e0"
      },
      "source": [
        "owner_total = df[\"ownerid\"].value_counts(sort= True).sum()\n",
        "owner_first10 = df[\"ownerid\"].value_counts(sort= True).head(10)\n",
        "\n",
        "\n",
        "\n",
        "owner_first10 = pd.DataFrame(owner_first10)\n",
        "owner_first10 = owner_first10.reset_index()\n",
        "\n",
        "sns.set(rc={'figure.figsize':(11, 7)})\n",
        "sns.barplot(x= \"index\", y= \"ownerid\", data= owner_first10, color='#253B8E')\n",
        "plt.xlabel(\"\\nowner\")\n",
        "plt.ylabel(\"\\nNumber of Walks\")\n",
        "plt.title(\"Top 10 Owners based on Number of Walks\\n\", fontsize = 15)\n",
        "plt.xticks(rotation=90)\n",
        "plt.show()"
      ],
      "execution_count": null,
      "outputs": [
        {
          "output_type": "display_data",
          "data": {
            "image/png": "[encoded data removed]",
            "text/plain": [
              "<Figure size 792x504 with 1 Axes>"
            ]
          },
          "metadata": {
            "tags": []
          }
        }
      ]
    },
    {
      "cell_type": "code",
      "metadata": {
        "colab": {
          "base_uri": "https://localhost:8080/",
          "height": 912
        },
        "id": "5kPduGHXGwcN",
        "outputId": "ea27e321-3ca7-46d4-fc39-377d84011f0a"
      },
      "source": [
        "df.groupby(\"ownerid\").count()"
      ],
      "execution_count": null,
      "outputs": [
        {
          "output_type": "execute_result",
          "data": {
            "text/html": [
              "<div>\n",
              "<style scoped>\n",
              "    .dataframe tbody tr th:only-of-type {\n",
              "        vertical-align: middle;\n",
              "    }\n",
              "\n",
              "    .dataframe tbody tr th {\n",
              "        vertical-align: top;\n",
              "    }\n",
              "\n",
              "    .dataframe thead th {\n",
              "        text-align: right;\n",
              "    }\n",
              "</style>\n",
              "<table border=\"1\" class=\"dataframe\">\n",
              "  <thead>\n",
              "    <tr style=\"text-align: right;\">\n",
              "      <th></th>\n",
              "      <th>walkingid</th>\n",
              "      <th>walkid</th>\n",
              "      <th>walkerid</th>\n",
              "      <th>dogid</th>\n",
              "      <th>paymentid</th>\n",
              "      <th>walkingtype</th>\n",
              "      <th>walkstatus</th>\n",
              "      <th>duration</th>\n",
              "      <th>ordercreatedtime</th>\n",
              "      <th>checkintime</th>\n",
              "      <th>confirmtime</th>\n",
              "      <th>matchtime</th>\n",
              "      <th>starttime</th>\n",
              "      <th>endtime</th>\n",
              "      <th>cancelledby</th>\n",
              "      <th>cancelreason</th>\n",
              "      <th>heat</th>\n",
              "      <th>walkgroup</th>\n",
              "      <th>distance</th>\n",
              "      <th>district</th>\n",
              "      <th>neighborhood</th>\n",
              "      <th>walkerF_commWithPeople</th>\n",
              "      <th>walkerF_commWithPariahDog</th>\n",
              "      <th>walkerF_commWithStreetCat</th>\n",
              "      <th>walkerF_goodPath</th>\n",
              "      <th>walkerF_walkWithDogAgain</th>\n",
              "      <th>walkerF_note</th>\n",
              "      <th>ownerF_commWithMe</th>\n",
              "      <th>ownerF_commWithDog</th>\n",
              "      <th>ownerF_timeAccuracy</th>\n",
              "      <th>ownerF_appPerformance</th>\n",
              "      <th>ownerF_note</th>\n",
              "      <th>paymentstatus</th>\n",
              "      <th>paymenttype</th>\n",
              "      <th>amount</th>\n",
              "      <th>discount</th>\n",
              "      <th>walkerincome</th>\n",
              "      <th>promocodeid</th>\n",
              "      <th>finishtime</th>\n",
              "      <th>id</th>\n",
              "      <th>mgapplytime</th>\n",
              "      <th>signuptime</th>\n",
              "      <th>firstdogaddedtime</th>\n",
              "    </tr>\n",
              "    <tr>\n",
              "      <th>ownerid</th>\n",
              "      <th></th>\n",
              "      <th></th>\n",
              "      <th></th>\n",
              "      <th></th>\n",
              "      <th></th>\n",
              "      <th></th>\n",
              "      <th></th>\n",
              "      <th></th>\n",
              "      <th></th>\n",
              "      <th></th>\n",
              "      <th></th>\n",
              "      <th></th>\n",
              "      <th></th>\n",
              "      <th></th>\n",
              "      <th></th>\n",
              "      <th></th>\n",
              "      <th></th>\n",
              "      <th></th>\n",
              "      <th></th>\n",
              "      <th></th>\n",
              "      <th></th>\n",
              "      <th></th>\n",
              "      <th></th>\n",
              "      <th></th>\n",
              "      <th></th>\n",
              "      <th></th>\n",
              "      <th></th>\n",
              "      <th></th>\n",
              "      <th></th>\n",
              "      <th></th>\n",
              "      <th></th>\n",
              "      <th></th>\n",
              "      <th></th>\n",
              "      <th></th>\n",
              "      <th></th>\n",
              "      <th></th>\n",
              "      <th></th>\n",
              "      <th></th>\n",
              "      <th></th>\n",
              "      <th></th>\n",
              "      <th></th>\n",
              "      <th></th>\n",
              "      <th></th>\n",
              "    </tr>\n",
              "  </thead>\n",
              "  <tbody>\n",
              "    <tr>\n",
              "      <th>00103671-a728-4c07-9b39-cf2b7c1b7756</th>\n",
              "      <td>1</td>\n",
              "      <td>1</td>\n",
              "      <td>1</td>\n",
              "      <td>1</td>\n",
              "      <td>1</td>\n",
              "      <td>1</td>\n",
              "      <td>1</td>\n",
              "      <td>1</td>\n",
              "      <td>1</td>\n",
              "      <td>1</td>\n",
              "      <td>1</td>\n",
              "      <td>0</td>\n",
              "      <td>1</td>\n",
              "      <td>1</td>\n",
              "      <td>0</td>\n",
              "      <td>0</td>\n",
              "      <td>1</td>\n",
              "      <td>0</td>\n",
              "      <td>1</td>\n",
              "      <td>1</td>\n",
              "      <td>0</td>\n",
              "      <td>0</td>\n",
              "      <td>0</td>\n",
              "      <td>0</td>\n",
              "      <td>0</td>\n",
              "      <td>0</td>\n",
              "      <td>0</td>\n",
              "      <td>0</td>\n",
              "      <td>0</td>\n",
              "      <td>0</td>\n",
              "      <td>0</td>\n",
              "      <td>0</td>\n",
              "      <td>1</td>\n",
              "      <td>1</td>\n",
              "      <td>1</td>\n",
              "      <td>1</td>\n",
              "      <td>1</td>\n",
              "      <td>1</td>\n",
              "      <td>0</td>\n",
              "      <td>1</td>\n",
              "      <td>0</td>\n",
              "      <td>1</td>\n",
              "      <td>1</td>\n",
              "    </tr>\n",
              "    <tr>\n",
              "      <th>0062f2a6-878d-4100-9bea-2b50e266a56e</th>\n",
              "      <td>1</td>\n",
              "      <td>1</td>\n",
              "      <td>1</td>\n",
              "      <td>1</td>\n",
              "      <td>1</td>\n",
              "      <td>1</td>\n",
              "      <td>1</td>\n",
              "      <td>1</td>\n",
              "      <td>1</td>\n",
              "      <td>1</td>\n",
              "      <td>1</td>\n",
              "      <td>0</td>\n",
              "      <td>1</td>\n",
              "      <td>1</td>\n",
              "      <td>0</td>\n",
              "      <td>0</td>\n",
              "      <td>1</td>\n",
              "      <td>1</td>\n",
              "      <td>1</td>\n",
              "      <td>1</td>\n",
              "      <td>1</td>\n",
              "      <td>0</td>\n",
              "      <td>0</td>\n",
              "      <td>0</td>\n",
              "      <td>0</td>\n",
              "      <td>0</td>\n",
              "      <td>0</td>\n",
              "      <td>0</td>\n",
              "      <td>0</td>\n",
              "      <td>0</td>\n",
              "      <td>0</td>\n",
              "      <td>0</td>\n",
              "      <td>1</td>\n",
              "      <td>1</td>\n",
              "      <td>1</td>\n",
              "      <td>1</td>\n",
              "      <td>1</td>\n",
              "      <td>1</td>\n",
              "      <td>0</td>\n",
              "      <td>1</td>\n",
              "      <td>1</td>\n",
              "      <td>1</td>\n",
              "      <td>1</td>\n",
              "    </tr>\n",
              "    <tr>\n",
              "      <th>008fabab-f868-4019-8b50-4022025b51b2</th>\n",
              "      <td>58</td>\n",
              "      <td>58</td>\n",
              "      <td>52</td>\n",
              "      <td>58</td>\n",
              "      <td>58</td>\n",
              "      <td>58</td>\n",
              "      <td>58</td>\n",
              "      <td>58</td>\n",
              "      <td>58</td>\n",
              "      <td>58</td>\n",
              "      <td>52</td>\n",
              "      <td>0</td>\n",
              "      <td>52</td>\n",
              "      <td>52</td>\n",
              "      <td>6</td>\n",
              "      <td>6</td>\n",
              "      <td>52</td>\n",
              "      <td>53</td>\n",
              "      <td>52</td>\n",
              "      <td>58</td>\n",
              "      <td>45</td>\n",
              "      <td>8</td>\n",
              "      <td>8</td>\n",
              "      <td>8</td>\n",
              "      <td>8</td>\n",
              "      <td>8</td>\n",
              "      <td>2</td>\n",
              "      <td>0</td>\n",
              "      <td>0</td>\n",
              "      <td>0</td>\n",
              "      <td>0</td>\n",
              "      <td>0</td>\n",
              "      <td>51</td>\n",
              "      <td>51</td>\n",
              "      <td>58</td>\n",
              "      <td>51</td>\n",
              "      <td>51</td>\n",
              "      <td>2</td>\n",
              "      <td>0</td>\n",
              "      <td>58</td>\n",
              "      <td>0</td>\n",
              "      <td>58</td>\n",
              "      <td>58</td>\n",
              "    </tr>\n",
              "    <tr>\n",
              "      <th>00bca807-7ecb-40aa-ae97-46564bdd11b7</th>\n",
              "      <td>70</td>\n",
              "      <td>70</td>\n",
              "      <td>70</td>\n",
              "      <td>70</td>\n",
              "      <td>70</td>\n",
              "      <td>70</td>\n",
              "      <td>70</td>\n",
              "      <td>70</td>\n",
              "      <td>70</td>\n",
              "      <td>70</td>\n",
              "      <td>55</td>\n",
              "      <td>0</td>\n",
              "      <td>70</td>\n",
              "      <td>70</td>\n",
              "      <td>0</td>\n",
              "      <td>0</td>\n",
              "      <td>70</td>\n",
              "      <td>0</td>\n",
              "      <td>70</td>\n",
              "      <td>70</td>\n",
              "      <td>0</td>\n",
              "      <td>12</td>\n",
              "      <td>12</td>\n",
              "      <td>12</td>\n",
              "      <td>12</td>\n",
              "      <td>12</td>\n",
              "      <td>0</td>\n",
              "      <td>0</td>\n",
              "      <td>0</td>\n",
              "      <td>0</td>\n",
              "      <td>0</td>\n",
              "      <td>0</td>\n",
              "      <td>70</td>\n",
              "      <td>70</td>\n",
              "      <td>70</td>\n",
              "      <td>70</td>\n",
              "      <td>70</td>\n",
              "      <td>19</td>\n",
              "      <td>0</td>\n",
              "      <td>70</td>\n",
              "      <td>0</td>\n",
              "      <td>70</td>\n",
              "      <td>70</td>\n",
              "    </tr>\n",
              "    <tr>\n",
              "      <th>00d2941f-7e9f-4422-a662-2d9012607d35</th>\n",
              "      <td>2</td>\n",
              "      <td>2</td>\n",
              "      <td>2</td>\n",
              "      <td>2</td>\n",
              "      <td>2</td>\n",
              "      <td>2</td>\n",
              "      <td>2</td>\n",
              "      <td>0</td>\n",
              "      <td>2</td>\n",
              "      <td>2</td>\n",
              "      <td>2</td>\n",
              "      <td>2</td>\n",
              "      <td>2</td>\n",
              "      <td>0</td>\n",
              "      <td>0</td>\n",
              "      <td>0</td>\n",
              "      <td>0</td>\n",
              "      <td>0</td>\n",
              "      <td>0</td>\n",
              "      <td>2</td>\n",
              "      <td>2</td>\n",
              "      <td>0</td>\n",
              "      <td>0</td>\n",
              "      <td>0</td>\n",
              "      <td>0</td>\n",
              "      <td>0</td>\n",
              "      <td>0</td>\n",
              "      <td>0</td>\n",
              "      <td>0</td>\n",
              "      <td>0</td>\n",
              "      <td>0</td>\n",
              "      <td>0</td>\n",
              "      <td>2</td>\n",
              "      <td>2</td>\n",
              "      <td>2</td>\n",
              "      <td>2</td>\n",
              "      <td>2</td>\n",
              "      <td>0</td>\n",
              "      <td>2</td>\n",
              "      <td>2</td>\n",
              "      <td>2</td>\n",
              "      <td>2</td>\n",
              "      <td>2</td>\n",
              "    </tr>\n",
              "    <tr>\n",
              "      <th>...</th>\n",
              "      <td>...</td>\n",
              "      <td>...</td>\n",
              "      <td>...</td>\n",
              "      <td>...</td>\n",
              "      <td>...</td>\n",
              "      <td>...</td>\n",
              "      <td>...</td>\n",
              "      <td>...</td>\n",
              "      <td>...</td>\n",
              "      <td>...</td>\n",
              "      <td>...</td>\n",
              "      <td>...</td>\n",
              "      <td>...</td>\n",
              "      <td>...</td>\n",
              "      <td>...</td>\n",
              "      <td>...</td>\n",
              "      <td>...</td>\n",
              "      <td>...</td>\n",
              "      <td>...</td>\n",
              "      <td>...</td>\n",
              "      <td>...</td>\n",
              "      <td>...</td>\n",
              "      <td>...</td>\n",
              "      <td>...</td>\n",
              "      <td>...</td>\n",
              "      <td>...</td>\n",
              "      <td>...</td>\n",
              "      <td>...</td>\n",
              "      <td>...</td>\n",
              "      <td>...</td>\n",
              "      <td>...</td>\n",
              "      <td>...</td>\n",
              "      <td>...</td>\n",
              "      <td>...</td>\n",
              "      <td>...</td>\n",
              "      <td>...</td>\n",
              "      <td>...</td>\n",
              "      <td>...</td>\n",
              "      <td>...</td>\n",
              "      <td>...</td>\n",
              "      <td>...</td>\n",
              "      <td>...</td>\n",
              "      <td>...</td>\n",
              "    </tr>\n",
              "    <tr>\n",
              "      <th>ffba3af2-91e4-43cb-a4f4-2c34d57288af</th>\n",
              "      <td>5</td>\n",
              "      <td>5</td>\n",
              "      <td>5</td>\n",
              "      <td>5</td>\n",
              "      <td>5</td>\n",
              "      <td>5</td>\n",
              "      <td>5</td>\n",
              "      <td>5</td>\n",
              "      <td>5</td>\n",
              "      <td>5</td>\n",
              "      <td>5</td>\n",
              "      <td>0</td>\n",
              "      <td>5</td>\n",
              "      <td>5</td>\n",
              "      <td>0</td>\n",
              "      <td>0</td>\n",
              "      <td>5</td>\n",
              "      <td>5</td>\n",
              "      <td>5</td>\n",
              "      <td>5</td>\n",
              "      <td>5</td>\n",
              "      <td>1</td>\n",
              "      <td>1</td>\n",
              "      <td>1</td>\n",
              "      <td>1</td>\n",
              "      <td>1</td>\n",
              "      <td>0</td>\n",
              "      <td>0</td>\n",
              "      <td>0</td>\n",
              "      <td>0</td>\n",
              "      <td>0</td>\n",
              "      <td>0</td>\n",
              "      <td>5</td>\n",
              "      <td>5</td>\n",
              "      <td>5</td>\n",
              "      <td>5</td>\n",
              "      <td>5</td>\n",
              "      <td>1</td>\n",
              "      <td>0</td>\n",
              "      <td>5</td>\n",
              "      <td>5</td>\n",
              "      <td>5</td>\n",
              "      <td>5</td>\n",
              "    </tr>\n",
              "    <tr>\n",
              "      <th>ffbbc6cf-c577-490f-ae45-36166b09d4a7</th>\n",
              "      <td>8</td>\n",
              "      <td>8</td>\n",
              "      <td>5</td>\n",
              "      <td>8</td>\n",
              "      <td>8</td>\n",
              "      <td>8</td>\n",
              "      <td>8</td>\n",
              "      <td>8</td>\n",
              "      <td>8</td>\n",
              "      <td>8</td>\n",
              "      <td>5</td>\n",
              "      <td>0</td>\n",
              "      <td>5</td>\n",
              "      <td>5</td>\n",
              "      <td>3</td>\n",
              "      <td>3</td>\n",
              "      <td>5</td>\n",
              "      <td>0</td>\n",
              "      <td>5</td>\n",
              "      <td>8</td>\n",
              "      <td>0</td>\n",
              "      <td>1</td>\n",
              "      <td>1</td>\n",
              "      <td>1</td>\n",
              "      <td>1</td>\n",
              "      <td>1</td>\n",
              "      <td>0</td>\n",
              "      <td>2</td>\n",
              "      <td>2</td>\n",
              "      <td>2</td>\n",
              "      <td>2</td>\n",
              "      <td>1</td>\n",
              "      <td>5</td>\n",
              "      <td>5</td>\n",
              "      <td>8</td>\n",
              "      <td>5</td>\n",
              "      <td>5</td>\n",
              "      <td>1</td>\n",
              "      <td>0</td>\n",
              "      <td>8</td>\n",
              "      <td>0</td>\n",
              "      <td>8</td>\n",
              "      <td>8</td>\n",
              "    </tr>\n",
              "    <tr>\n",
              "      <th>ffcc0f44-ecd8-4438-8f27-77c4b35ed37d</th>\n",
              "      <td>6</td>\n",
              "      <td>6</td>\n",
              "      <td>6</td>\n",
              "      <td>6</td>\n",
              "      <td>6</td>\n",
              "      <td>6</td>\n",
              "      <td>6</td>\n",
              "      <td>6</td>\n",
              "      <td>6</td>\n",
              "      <td>6</td>\n",
              "      <td>6</td>\n",
              "      <td>0</td>\n",
              "      <td>6</td>\n",
              "      <td>6</td>\n",
              "      <td>0</td>\n",
              "      <td>0</td>\n",
              "      <td>6</td>\n",
              "      <td>6</td>\n",
              "      <td>6</td>\n",
              "      <td>6</td>\n",
              "      <td>3</td>\n",
              "      <td>1</td>\n",
              "      <td>1</td>\n",
              "      <td>1</td>\n",
              "      <td>1</td>\n",
              "      <td>1</td>\n",
              "      <td>0</td>\n",
              "      <td>3</td>\n",
              "      <td>3</td>\n",
              "      <td>3</td>\n",
              "      <td>3</td>\n",
              "      <td>0</td>\n",
              "      <td>6</td>\n",
              "      <td>6</td>\n",
              "      <td>6</td>\n",
              "      <td>6</td>\n",
              "      <td>6</td>\n",
              "      <td>0</td>\n",
              "      <td>0</td>\n",
              "      <td>6</td>\n",
              "      <td>0</td>\n",
              "      <td>6</td>\n",
              "      <td>6</td>\n",
              "    </tr>\n",
              "    <tr>\n",
              "      <th>fff89f2f-9c19-449f-a003-0f690dc969f6</th>\n",
              "      <td>6</td>\n",
              "      <td>6</td>\n",
              "      <td>6</td>\n",
              "      <td>6</td>\n",
              "      <td>6</td>\n",
              "      <td>6</td>\n",
              "      <td>6</td>\n",
              "      <td>6</td>\n",
              "      <td>6</td>\n",
              "      <td>6</td>\n",
              "      <td>0</td>\n",
              "      <td>0</td>\n",
              "      <td>6</td>\n",
              "      <td>6</td>\n",
              "      <td>0</td>\n",
              "      <td>0</td>\n",
              "      <td>6</td>\n",
              "      <td>0</td>\n",
              "      <td>6</td>\n",
              "      <td>6</td>\n",
              "      <td>0</td>\n",
              "      <td>0</td>\n",
              "      <td>0</td>\n",
              "      <td>0</td>\n",
              "      <td>0</td>\n",
              "      <td>0</td>\n",
              "      <td>0</td>\n",
              "      <td>0</td>\n",
              "      <td>0</td>\n",
              "      <td>0</td>\n",
              "      <td>0</td>\n",
              "      <td>0</td>\n",
              "      <td>5</td>\n",
              "      <td>5</td>\n",
              "      <td>6</td>\n",
              "      <td>5</td>\n",
              "      <td>5</td>\n",
              "      <td>0</td>\n",
              "      <td>0</td>\n",
              "      <td>6</td>\n",
              "      <td>0</td>\n",
              "      <td>6</td>\n",
              "      <td>6</td>\n",
              "    </tr>\n",
              "    <tr>\n",
              "      <th>fffd01ad-8bbb-41fc-a5b6-8ac70cb01554</th>\n",
              "      <td>2</td>\n",
              "      <td>2</td>\n",
              "      <td>2</td>\n",
              "      <td>2</td>\n",
              "      <td>2</td>\n",
              "      <td>2</td>\n",
              "      <td>2</td>\n",
              "      <td>2</td>\n",
              "      <td>2</td>\n",
              "      <td>2</td>\n",
              "      <td>2</td>\n",
              "      <td>0</td>\n",
              "      <td>2</td>\n",
              "      <td>2</td>\n",
              "      <td>0</td>\n",
              "      <td>0</td>\n",
              "      <td>2</td>\n",
              "      <td>2</td>\n",
              "      <td>2</td>\n",
              "      <td>2</td>\n",
              "      <td>2</td>\n",
              "      <td>1</td>\n",
              "      <td>1</td>\n",
              "      <td>1</td>\n",
              "      <td>1</td>\n",
              "      <td>1</td>\n",
              "      <td>0</td>\n",
              "      <td>1</td>\n",
              "      <td>1</td>\n",
              "      <td>1</td>\n",
              "      <td>1</td>\n",
              "      <td>0</td>\n",
              "      <td>2</td>\n",
              "      <td>2</td>\n",
              "      <td>2</td>\n",
              "      <td>2</td>\n",
              "      <td>2</td>\n",
              "      <td>0</td>\n",
              "      <td>0</td>\n",
              "      <td>2</td>\n",
              "      <td>0</td>\n",
              "      <td>2</td>\n",
              "      <td>2</td>\n",
              "    </tr>\n",
              "  </tbody>\n",
              "</table>\n",
              "<p>1558 rows × 43 columns</p>\n",
              "</div>"
            ],
            "text/plain": [
              "                                      walkingid  ...  firstdogaddedtime\n",
              "ownerid                                          ...                   \n",
              "00103671-a728-4c07-9b39-cf2b7c1b7756          1  ...                  1\n",
              "0062f2a6-878d-4100-9bea-2b50e266a56e          1  ...                  1\n",
              "008fabab-f868-4019-8b50-4022025b51b2         58  ...                 58\n",
              "00bca807-7ecb-40aa-ae97-46564bdd11b7         70  ...                 70\n",
              "00d2941f-7e9f-4422-a662-2d9012607d35          2  ...                  2\n",
              "...                                         ...  ...                ...\n",
              "ffba3af2-91e4-43cb-a4f4-2c34d57288af          5  ...                  5\n",
              "ffbbc6cf-c577-490f-ae45-36166b09d4a7          8  ...                  8\n",
              "ffcc0f44-ecd8-4438-8f27-77c4b35ed37d          6  ...                  6\n",
              "fff89f2f-9c19-449f-a003-0f690dc969f6          6  ...                  6\n",
              "fffd01ad-8bbb-41fc-a5b6-8ac70cb01554          2  ...                  2\n",
              "\n",
              "[1558 rows x 43 columns]"
            ]
          },
          "metadata": {
            "tags": []
          },
          "execution_count": 48
        }
      ]
    },
    {
      "cell_type": "markdown",
      "metadata": {
        "id": "annryUw_0q85"
      },
      "source": [
        "Top ten owners according to number of walks represents frequency in other word the f column and the graph above shows that there is a customer that has many transaction and there is a significant difference between first customer and second customer. The other ones are similar to each other."
      ]
    },
    {
      "cell_type": "code",
      "metadata": {
        "id": "kEmXAbnzdgDB",
        "colab": {
          "base_uri": "https://localhost:8080/",
          "height": 724
        },
        "outputId": "75499ffa-d454-47e1-e45a-411c9adaa475"
      },
      "source": [
        "amount_owner = df.groupby(\"ownerid\")[\"amount\"].sum().sort_values(ascending=False)\n",
        "amount_owner_total = df[\"amount\"].sum()\n",
        "amount_owner20 = amount_owner.head(10)\n",
        "\n",
        "amount_owner20 = pd.DataFrame(amount_owner20)\n",
        "amount_owner20 = amount_owner20.reset_index()\n",
        "\n",
        "sns.set(rc={'figure.figsize':(11, 7)})\n",
        "sns.barplot(x= \"ownerid\", y= \"amount\", data= amount_owner20, color='#253B8E')\n",
        "plt.xlabel(\"\\nOwner\")\n",
        "plt.ylabel(\"\\nAmount\")\n",
        "plt.title(\"Top 10 owners based on Amount\\n\", fontsize = 15)\n",
        "plt.xticks(rotation=90)\n",
        "plt.show()"
      ],
      "execution_count": null,
      "outputs": [
        {
          "output_type": "display_data",
          "data": {
            "image/png": "[encoded data removed]",
            "text/plain": [
              "<Figure size 792x504 with 1 Axes>"
            ]
          },
          "metadata": {
            "tags": []
          }
        }
      ]
    },
    {
      "cell_type": "markdown",
      "metadata": {
        "id": "xxOyxK_Q1kS6"
      },
      "source": [
        "This graph is similar to previous graph, the difference is this graph repsesent monetary it means it is based on amount. there is also another similarity that a customer spent money distictly. Mean and standard deviation will be investigated below as a next step of the effect of this difference."
      ]
    },
    {
      "cell_type": "code",
      "metadata": {
        "id": "HVGQny0CZQDQ",
        "colab": {
          "base_uri": "https://localhost:8080/",
          "height": 727
        },
        "outputId": "338331a0-d84c-4c4a-ebf0-b880a0d6b295"
      },
      "source": [
        "amount_owner = df.groupby(\"ownerid\")[\"amount\"].sum().sort_values()\n",
        "amount_owner20 = amount_owner.head(20)\n",
        "\n",
        "amount_owner20 = pd.DataFrame(amount_owner20)\n",
        "amount_owner20 = amount_owner20.reset_index()\n",
        "\n",
        "sns.set(rc={'figure.figsize':(11, 7)})\n",
        "sns.barplot(x= \"ownerid\", y= \"amount\", data= amount_owner20, color='#253B8E')\n",
        "plt.xlabel(\"\\nOwner\")\n",
        "plt.ylabel(\"\\nAmount\")\n",
        "plt.title(\"Last 10 owners\\n\", fontsize = 15)\n",
        "plt.xticks(rotation=90)\n",
        "plt.show()"
      ],
      "execution_count": null,
      "outputs": [
        {
          "output_type": "display_data",
          "data": {
            "image/png": "[encoded data removed]",
            "text/plain": [
              "<Figure size 792x504 with 1 Axes>"
            ]
          },
          "metadata": {
            "tags": []
          }
        }
      ]
    },
    {
      "cell_type": "code",
      "metadata": {
        "id": "Q6CseKLZiKSb",
        "colab": {
          "base_uri": "https://localhost:8080/",
          "height": 483
        },
        "outputId": "473ddf67-5c16-4ece-d79e-02bb095b07c6"
      },
      "source": [
        "plt.figure(figsize=(8, 6))\n",
        "sns.distplot(df[\"amount\"])\n",
        "plt.title(\"Distribution of Amount\\n\", fontsize = 15)\n",
        "plt.show()"
      ],
      "execution_count": null,
      "outputs": [
        {
          "output_type": "stream",
          "text": [
            "/usr/local/lib/python3.7/dist-packages/seaborn/distributions.py:2557: FutureWarning: `distplot` is a deprecated function and will be removed in a future version. Please adapt your code to use either `displot` (a figure-level function with similar flexibility) or `histplot` (an axes-level function for histograms).\n",
            "  warnings.warn(msg, FutureWarning)\n"
          ],
          "name": "stderr"
        },
        {
          "output_type": "display_data",
          "data": {
            "image/png": "[encoded data removed]",
            "text/plain": [
              "<Figure size 576x432 with 1 Axes>"
            ]
          },
          "metadata": {
            "tags": []
          }
        }
      ]
    },
    {
      "cell_type": "markdown",
      "metadata": {
        "id": "MHoTFbmx3UJG"
      },
      "source": [
        "The amount distribution is not like normal distribution."
      ]
    },
    {
      "cell_type": "code",
      "metadata": {
        "id": "UAvuGhTCO9E4",
        "colab": {
          "base_uri": "https://localhost:8080/"
        },
        "outputId": "d99782e4-d8e0-413a-ff49-65792009b751"
      },
      "source": [
        "gby_ownerid = df.groupby(\"ownerid\")[\"amount\"].sum().sort_values(ascending=False)\n",
        "gby_ownerid"
      ],
      "execution_count": null,
      "outputs": [
        {
          "output_type": "execute_result",
          "data": {
            "text/plain": [
              "ownerid\n",
              "b6ed3bef-0f78-4749-98e9-a6f1cc6ae177    31350.840000\n",
              "eea120c4-6c99-4c83-8251-1ea3d1e89dd3    23992.080000\n",
              "f82cb910-9213-49f4-98ec-ce3347328c9a    21524.990000\n",
              "ea27cea2-0876-41bc-b8e8-5af5402b34a7    20674.215037\n",
              "7ebb85b5-8d08-40b5-a334-0d32fd9b7be2    19432.000000\n",
              "                                            ...     \n",
              "e8b91196-9134-47b0-8785-abad1817f024       25.000000\n",
              "fde60302-0033-4e69-ac93-80cc1fd2fda4       23.920000\n",
              "a4966af8-31c3-4b80-92b5-eee0613a9241       23.920000\n",
              "605d3444-bb0d-4711-965b-a1f152ff4680       20.000000\n",
              "105c946a-64b5-4e6e-adcd-c17543df6f48       19.790000\n",
              "Name: amount, Length: 1558, dtype: float64"
            ]
          },
          "metadata": {
            "tags": []
          },
          "execution_count": 52
        }
      ]
    },
    {
      "cell_type": "code",
      "metadata": {
        "id": "T_JcjaJaZCgN",
        "colab": {
          "base_uri": "https://localhost:8080/"
        },
        "outputId": "1babd4ba-21c2-4261-d525-5ade8ab960c4"
      },
      "source": [
        "gby_ownerid.describe()"
      ],
      "execution_count": null,
      "outputs": [
        {
          "output_type": "execute_result",
          "data": {
            "text/plain": [
              "count     1558.000000\n",
              "mean      1087.899177\n",
              "std       2482.511568\n",
              "min         19.790000\n",
              "25%         59.900000\n",
              "50%        274.500000\n",
              "75%        934.370000\n",
              "max      31350.840000\n",
              "Name: amount, dtype: float64"
            ]
          },
          "metadata": {
            "tags": []
          },
          "execution_count": 53
        }
      ]
    },
    {
      "cell_type": "markdown",
      "metadata": {
        "id": "ZFquqALb4MzJ"
      },
      "source": [
        "The standard deviation of the amount is so high when it compares with mean. The most spending customer affects the standard deviation, and this customer will not be taken into account because it is an outlier."
      ]
    },
    {
      "cell_type": "code",
      "metadata": {
        "colab": {
          "base_uri": "https://localhost:8080/",
          "height": 483
        },
        "id": "5EKYL11eO0x3",
        "outputId": "f494e9f7-043e-4ede-9779-6dee55b5681e"
      },
      "source": [
        "plt.figure(figsize=(8, 6))\n",
        "sns.distplot(gby_ownerid)\n",
        "plt.title(\"Distribution of Total Amount Grouped by Customer\\n\", fontsize = 15)\n",
        "plt.show()"
      ],
      "execution_count": null,
      "outputs": [
        {
          "output_type": "stream",
          "text": [
            "/usr/local/lib/python3.7/dist-packages/seaborn/distributions.py:2557: FutureWarning: `distplot` is a deprecated function and will be removed in a future version. Please adapt your code to use either `displot` (a figure-level function with similar flexibility) or `histplot` (an axes-level function for histograms).\n",
            "  warnings.warn(msg, FutureWarning)\n"
          ],
          "name": "stderr"
        },
        {
          "output_type": "display_data",
          "data": {
            "image/png": "[encoded data removed]",
            "text/plain": [
              "<Figure size 576x432 with 1 Axes>"
            ]
          },
          "metadata": {
            "tags": []
          }
        }
      ]
    },
    {
      "cell_type": "code",
      "metadata": {
        "id": "CSqKxUVmZOhR"
      },
      "source": [
        "df = df[df[\"ownerid\"] != \"b6ed3bef-0f78-4749-98e9-a6f1cc6ae177\"]\n",
        "#df = df[df[\"ownerid\"] != \"8988f208-b453-4302-9d72-420d36ed580f\"]\n",
        "#df = df[df[\"ownerid\"] != \"af0e4d22-7d04-4f84-88c5-4a6c1c15fc07\"]"
      ],
      "execution_count": null,
      "outputs": []
    },
    {
      "cell_type": "code",
      "metadata": {
        "id": "aPA3nKibyuK9",
        "colab": {
          "base_uri": "https://localhost:8080/"
        },
        "outputId": "5b538b89-be3f-400f-dec5-3754d5ae2edc"
      },
      "source": [
        "df[\"amount\"].sort_values(ascending=True).head(20)"
      ],
      "execution_count": null,
      "outputs": [
        {
          "output_type": "execute_result",
          "data": {
            "text/plain": [
              "3827      1.00\n",
              "35747     9.00\n",
              "62643    10.00\n",
              "51537    10.00\n",
              "45894    10.00\n",
              "36012    10.00\n",
              "60159    16.00\n",
              "16283    16.48\n",
              "16284    16.48\n",
              "16285    16.48\n",
              "16287    16.48\n",
              "16282    16.48\n",
              "16288    16.48\n",
              "16289    16.48\n",
              "16290    16.48\n",
              "16291    16.48\n",
              "16286    16.48\n",
              "16281    16.48\n",
              "16279    16.48\n",
              "16278    16.48\n",
              "Name: amount, dtype: float64"
            ]
          },
          "metadata": {
            "tags": []
          },
          "execution_count": 56
        }
      ]
    },
    {
      "cell_type": "markdown",
      "metadata": {
        "id": "1yRpZaV45CwP"
      },
      "source": [
        "The numbers less than 16.48 can be misleading amounts and they affect the mean and they will be replaced with median of the amount."
      ]
    },
    {
      "cell_type": "code",
      "metadata": {
        "id": "7jwhOM3K0-IU",
        "colab": {
          "base_uri": "https://localhost:8080/"
        },
        "outputId": "a0252dee-a26d-4e48-834e-1f62b8bfc11b"
      },
      "source": [
        "unknown_amount_list = [0, 1, 9, 10, 16]\n",
        "                       \n",
        "df['amount'] = df['amount'].replace(unknown_amount_list, df.amount.median())\n",
        "\n",
        "df[\"amount\"].sort_values(ascending=True).head(20)"
      ],
      "execution_count": null,
      "outputs": [
        {
          "output_type": "execute_result",
          "data": {
            "text/plain": [
              "16291    16.48\n",
              "16289    16.48\n",
              "16278    16.48\n",
              "16279    16.48\n",
              "16280    16.48\n",
              "16281    16.48\n",
              "16282    16.48\n",
              "16283    16.48\n",
              "16288    16.48\n",
              "16284    16.48\n",
              "16285    16.48\n",
              "16286    16.48\n",
              "16287    16.48\n",
              "16290    16.48\n",
              "54626    17.50\n",
              "54622    17.50\n",
              "2502     17.50\n",
              "2505     17.50\n",
              "2904     17.75\n",
              "2931     17.75\n",
              "Name: amount, dtype: float64"
            ]
          },
          "metadata": {
            "tags": []
          },
          "execution_count": 57
        }
      ]
    },
    {
      "cell_type": "code",
      "metadata": {
        "id": "aJIjsUBHeMha",
        "colab": {
          "base_uri": "https://localhost:8080/"
        },
        "outputId": "5edb559a-8885-44ff-d9d4-91f3c5ec4bb0"
      },
      "source": [
        "gby_ownerid2 = df.groupby(\"ownerid\")[\"amount\"].sum().sort_values(ascending=False)\n",
        "gby_ownerid2"
      ],
      "execution_count": null,
      "outputs": [
        {
          "output_type": "execute_result",
          "data": {
            "text/plain": [
              "ownerid\n",
              "eea120c4-6c99-4c83-8251-1ea3d1e89dd3    23992.080000\n",
              "f82cb910-9213-49f4-98ec-ce3347328c9a    21524.990000\n",
              "ea27cea2-0876-41bc-b8e8-5af5402b34a7    20674.215037\n",
              "7ebb85b5-8d08-40b5-a334-0d32fd9b7be2    19432.000000\n",
              "988ac167-f1d5-4d6f-b961-94c5b5de3e20    19238.780000\n",
              "                                            ...     \n",
              "e8b91196-9134-47b0-8785-abad1817f024       25.000000\n",
              "fde60302-0033-4e69-ac93-80cc1fd2fda4       23.920000\n",
              "a4966af8-31c3-4b80-92b5-eee0613a9241       23.920000\n",
              "605d3444-bb0d-4711-965b-a1f152ff4680       20.000000\n",
              "105c946a-64b5-4e6e-adcd-c17543df6f48       19.790000\n",
              "Name: amount, Length: 1557, dtype: float64"
            ]
          },
          "metadata": {
            "tags": []
          },
          "execution_count": 58
        }
      ]
    },
    {
      "cell_type": "code",
      "metadata": {
        "id": "DtfOgexDeTlz",
        "colab": {
          "base_uri": "https://localhost:8080/"
        },
        "outputId": "88e250b2-a01a-4f2a-8f2e-aca57636d274"
      },
      "source": [
        "gby_ownerid2.describe()"
      ],
      "execution_count": null,
      "outputs": [
        {
          "output_type": "execute_result",
          "data": {
            "text/plain": [
              "count     1557.000000\n",
              "mean      1068.534103\n",
              "std       2361.804021\n",
              "min         19.790000\n",
              "25%         59.900000\n",
              "50%        274.500000\n",
              "75%        930.950000\n",
              "max      23992.080000\n",
              "Name: amount, dtype: float64"
            ]
          },
          "metadata": {
            "tags": []
          },
          "execution_count": 59
        }
      ]
    },
    {
      "cell_type": "code",
      "metadata": {
        "colab": {
          "base_uri": "https://localhost:8080/",
          "height": 448
        },
        "id": "6MLJglo4OGhV",
        "outputId": "af8c9307-96c8-4589-d365-6d8d7fdc6ed3"
      },
      "source": [
        "plt.figure(figsize=(8, 6))\n",
        "sns.distplot(df[\"amount\"])\n",
        "plt.show()"
      ],
      "execution_count": null,
      "outputs": [
        {
          "output_type": "stream",
          "text": [
            "/usr/local/lib/python3.7/dist-packages/seaborn/distributions.py:2557: FutureWarning: `distplot` is a deprecated function and will be removed in a future version. Please adapt your code to use either `displot` (a figure-level function with similar flexibility) or `histplot` (an axes-level function for histograms).\n",
            "  warnings.warn(msg, FutureWarning)\n"
          ],
          "name": "stderr"
        },
        {
          "output_type": "display_data",
          "data": {
            "image/png": "[encoded data removed]",
            "text/plain": [
              "<Figure size 576x432 with 1 Axes>"
            ]
          },
          "metadata": {
            "tags": []
          }
        }
      ]
    },
    {
      "cell_type": "markdown",
      "metadata": {
        "id": "Cr1g_ZuA5xgR"
      },
      "source": [
        "As a result of changes, the standart deviation was reduced. "
      ]
    },
    {
      "cell_type": "code",
      "metadata": {
        "id": "ZZG5iBlI3Y5Y",
        "colab": {
          "base_uri": "https://localhost:8080/",
          "height": 726
        },
        "outputId": "fb7d0840-417c-4b76-b155-b91fda4ec1a7"
      },
      "source": [
        "walker_first10 = df[\"walkerid\"].value_counts(sort= True).head(10)\n",
        "walker_first10 = pd.DataFrame(walker_first10)\n",
        "walker_first10 = walker_first10.reset_index()\n",
        "\n",
        "sns.set(rc={'figure.figsize':(11, 7)})\n",
        "sns.barplot(x= \"index\", y= \"walkerid\", data= walker_first10, color='#253B8E')\n",
        "plt.xlabel(\"\\nWalker\")\n",
        "plt.ylabel(\"\\nNumber of Walks\")\n",
        "plt.title(\"Top 10 Walkers\\n\", fontsize = 15)\n",
        "plt.xticks(rotation=90)\n",
        "plt.show()"
      ],
      "execution_count": null,
      "outputs": [
        {
          "output_type": "display_data",
          "data": {
            "image/png": "[encoded data removed]",
            "text/plain": [
              "<Figure size 792x504 with 1 Axes>"
            ]
          },
          "metadata": {
            "tags": []
          }
        }
      ]
    },
    {
      "cell_type": "code",
      "metadata": {
        "id": "u11qqrOB516S",
        "colab": {
          "base_uri": "https://localhost:8080/",
          "height": 726
        },
        "outputId": "79e794ef-394d-4d49-e38e-8eeefa4d0b70"
      },
      "source": [
        "amount_walker = df.groupby(\"walkerid\")[\"amount\"].sum().sort_values(ascending=False)\n",
        "amount_walker20 = amount_walker.head(20)\n",
        "\n",
        "amount_walker20 = pd.DataFrame(amount_walker20)\n",
        "amount_walker20 = amount_walker20.reset_index()\n",
        "\n",
        "sns.set(rc={'figure.figsize':(11, 7)})\n",
        "sns.barplot(x= \"walkerid\", y= \"amount\", data= amount_walker20, color='#253B8E')\n",
        "plt.xlabel(\"\\nWalker\")\n",
        "plt.ylabel(\"\\nAmount\")\n",
        "plt.title(\"Top 10 Walkers\\n\", fontsize = 15)\n",
        "plt.xticks(rotation=90)\n",
        "plt.show()"
      ],
      "execution_count": null,
      "outputs": [
        {
          "output_type": "display_data",
          "data": {
            "image/png": "[encoded data removed]",
            "text/plain": [
              "<Figure size 792x504 with 1 Axes>"
            ]
          },
          "metadata": {
            "tags": []
          }
        }
      ]
    },
    {
      "cell_type": "markdown",
      "metadata": {
        "id": "TNgD9fxZ6K1s"
      },
      "source": [
        "A similar investigation was done for the top ten walkers, but there is no abnormal case."
      ]
    },
    {
      "cell_type": "code",
      "metadata": {
        "id": "1QgjGNmxiQtW"
      },
      "source": [
        "def format_spines(ax, right_border=True):\n",
        "    \"\"\"docstring for format_spines:\n",
        "    this function sets up borders from an axis and personalize colors\n",
        "    input:\n",
        "        ax: figure axis\n",
        "        right_border: flag to determine if the right border will be visible or not\"\"\"\n",
        "    \n",
        "    # Setting up colors\n",
        "    ax.spines['bottom'].set_color('#CCCCCC')\n",
        "    ax.spines['left'].set_color('#CCCCCC')\n",
        "    ax.spines['top'].set_color('#FFFFFF')\n",
        "    if right_border:\n",
        "        ax.spines['right'].set_color('#CCCCCC')\n",
        "    else:\n",
        "        ax.spines['right'].set_color('#FFFFFF')\n",
        "    ax.patch.set_facecolor('#FFFFFF')\n",
        "\n",
        "def count_plot(feature, df, colors='Blues_d', hue=False,):\n",
        "    \"\"\"docstring for count_plot:\n",
        "    this function plots data setting up frequency and percentage. This algo sets up borders\n",
        "    and personalization\n",
        "    input:\n",
        "        feature: feature to be plotted\n",
        "        df: dataframe\n",
        "        colors = color palette (default=Blues_d)\n",
        "        hue = second feature analysis (default=False)\"\"\"\n",
        "    \n",
        "    # Preparing variables\n",
        "    ncount = len(df)\n",
        "    fig, ax = plt.subplots()\n",
        "    if hue != False:\n",
        "        ax = sns.countplot(x=feature, data=df, palette=colors, hue=hue)\n",
        "    else:\n",
        "        ax = sns.countplot(x=feature, data=df, palette=colors)\n",
        "\n",
        "    # Make twin axis\n",
        "    ax2=ax.twinx()\n",
        "\n",
        "    # Switch so count axis is on right, frequency on left\n",
        "    ax2.yaxis.tick_left()\n",
        "    ax.yaxis.tick_right()\n",
        "\n",
        "    # Also switch the labels over\n",
        "    ax.yaxis.set_label_position('right')\n",
        "    ax2.yaxis.set_label_position('left')\n",
        "\n",
        "    ax2.set_ylabel('Frequency [%]')\n",
        "\n",
        "    # Setting borders\n",
        "    format_spines(ax)\n",
        "    format_spines(ax2)\n",
        "\n",
        "    # Setting percentage\n",
        "    for p in ax.patches:\n",
        "        x=p.get_bbox().get_points()[:,0]\n",
        "        y=p.get_bbox().get_points()[1,1]\n",
        "        ax.annotate('{:.1f}%'.format(100.*y/ncount), (x.mean(), y), \n",
        "                ha='center', va='bottom') # set the alignment of the text\n",
        "    if not hue:\n",
        "        ax.set_title(df[feature].describe().name + ' Analysis', size=13, pad=15)\n",
        "    else:\n",
        "        ax.set_title(df[feature].describe().name + ' Analysis by ' + hue, size=13, pad=15)   \n",
        "    plt.show()"
      ],
      "execution_count": null,
      "outputs": []
    },
    {
      "cell_type": "code",
      "metadata": {
        "id": "4OBoirVDCJ-l"
      },
      "source": [
        "sorted_walkingtype = df.walkingtype.sort_values(ascending=False)\n",
        "df[\"sorted_walkingtype\"] = sorted_walkingtype"
      ],
      "execution_count": null,
      "outputs": []
    },
    {
      "cell_type": "code",
      "metadata": {
        "id": "htNTUsjGpFeE",
        "colab": {
          "base_uri": "https://localhost:8080/",
          "height": 490
        },
        "outputId": "eae1048f-f330-4a95-d9fe-c7cfd0e7e651"
      },
      "source": [
        "plt.figure(figsize=(10, 8))\n",
        "count_plot(feature=\"sorted_walkingtype\", df=df)"
      ],
      "execution_count": null,
      "outputs": [
        {
          "output_type": "display_data",
          "data": {
            "text/plain": [
              "<Figure size 720x576 with 0 Axes>"
            ]
          },
          "metadata": {
            "tags": []
          }
        },
        {
          "output_type": "display_data",
          "data": {
            "image/png": "[encoded data removed]",
            "text/plain": [
              "<Figure size 792x504 with 2 Axes>"
            ]
          },
          "metadata": {
            "tags": []
          }
        }
      ]
    },
    {
      "cell_type": "markdown",
      "metadata": {
        "id": "Jz71ASoB7Ayn"
      },
      "source": [
        "According to walking type analysis, almost half of all transactions are customize walking which generated by customers based on their schedules or choises. Planned walking is second and it means 25% walks were scheduled before the walking, but this category includes only single walks."
      ]
    },
    {
      "cell_type": "code",
      "metadata": {
        "colab": {
          "base_uri": "https://localhost:8080/",
          "height": 536
        },
        "id": "0zji95vfGszr",
        "outputId": "56987a09-6b1a-4bc9-f7cc-0a3002b3e842"
      },
      "source": [
        "perc_walkingtype = df[\"walkingtype\"].value_counts()/len(df[\"walkingtype\"])*100\n",
        "perc_walkingtype20 = perc_walkingtype.head(20)\n",
        "\n",
        "perc_walkingtype20 = pd.DataFrame(perc_walkingtype20)\n",
        "perc_walkingtype20 = perc_walkingtype20.reset_index()\n",
        "\n",
        "sns.set(rc={'figure.figsize':(11, 7)})\n",
        "sns.barplot(x= \"index\", y= \"walkingtype\", data= perc_walkingtype20, color='#253B8E')\n",
        "plt.xlabel(\"\\nwalkingtype\")\n",
        "plt.ylabel(\"\\n%\")\n",
        "plt.title(\"Walking Types\\n\", fontsize = 15)\n",
        "plt.xticks(rotation=45)\n",
        "plt.show()"
      ],
      "execution_count": null,
      "outputs": [
        {
          "output_type": "display_data",
          "data": {
            "image/png": "[encoded data removed]",
            "text/plain": [
              "<Figure size 792x504 with 1 Axes>"
            ]
          },
          "metadata": {
            "tags": []
          }
        }
      ]
    },
    {
      "cell_type": "markdown",
      "metadata": {
        "id": "iAQWEHZg8zFS"
      },
      "source": [
        "Walk group is related to dog types, and dog types are defined according to dogs' weight. There is no significant difference between these three categories."
      ]
    },
    {
      "cell_type": "code",
      "metadata": {
        "id": "nvy8FuabeJJF"
      },
      "source": [
        "perc_district = df[\"district\"].value_counts()/len(df[\"district\"])*100\n",
        "perc_district20 = perc_district.head(20)\n",
        "\n",
        "perc_district20 = pd.DataFrame(perc_district20)\n",
        "perc_district20 = perc_district20.reset_index()\n",
        "\n",
        "sns.set(rc={'figure.figsize':(11, 7)})\n",
        "sns.barplot(x= \"index\", y= \"district\", data= perc_district20)\n",
        "plt.xlabel(\"\\ndistrict\")\n",
        "plt.ylabel(\"\\n%\")\n",
        "plt.title(\"Top 10 districts\\n\", fontsize = 15)\n",
        "plt.xticks(rotation=45)\n",
        "plt.show()"
      ],
      "execution_count": null,
      "outputs": []
    },
    {
      "cell_type": "markdown",
      "metadata": {
        "id": "zT_sagov9rPa"
      },
      "source": [
        "In the top ten districts, Kadıköy is the number one, and there is a significant difference. The district variable can be used as a supporting variable of rfm in the following step to separate customer groups. On the other hand, another customer segmentation can be done for Kadiköy particularly."
      ]
    },
    {
      "cell_type": "code",
      "metadata": {
        "id": "mvdQIcHTf_jG"
      },
      "source": [
        "perc_paymenttype = df[\"paymenttype\"].value_counts()/len(df[\"paymenttype\"])*100\n",
        "\n",
        "perc_paymenttype = pd.DataFrame(perc_paymenttype)\n",
        "perc_paymenttype = perc_paymenttype.reset_index()\n",
        "\n",
        "sns.set(rc={'figure.figsize':(11, 7)})\n",
        "sns.barplot(x= \"index\", y= \"paymenttype\", data= perc_paymenttype)\n",
        "plt.xlabel(\"\\npaymenttype\")\n",
        "plt.ylabel(\"\\n%\")\n",
        "plt.title(\"paymenttype\\n\", fontsize = 15)\n",
        "plt.xticks(rotation=20)\n",
        "plt.show()"
      ],
      "execution_count": null,
      "outputs": []
    },
    {
      "cell_type": "markdown",
      "metadata": {
        "id": "PCrOpA0f-rP8"
      },
      "source": [
        "Paymenttype variable consists of almost paid walkings."
      ]
    },
    {
      "cell_type": "code",
      "metadata": {
        "id": "LY6dHGVji1Jv"
      },
      "source": [
        "perc_paymentstatus = df[df[\"paymentstatus\"] == \"Free\"]\n",
        "nof_free = len(perc_paymentstatus)\n",
        "\n",
        "perc_paymentstatus = df[df[\"paymentstatus\"] == \"Approved\"]\n",
        "nof_paid= len(perc_paymentstatus)\n",
        "print('Free: {} and Approved:\"{}\"'.format(nof_free, nof_paid))"
      ],
      "execution_count": null,
      "outputs": []
    },
    {
      "cell_type": "markdown",
      "metadata": {
        "id": "R2GvXs446NzT"
      },
      "source": [
        "##RFM"
      ]
    },
    {
      "cell_type": "markdown",
      "metadata": {
        "id": "-IN_pf-7oFtk"
      },
      "source": [
        "Two walk statuses are finished and canceled. Finished walks are used to calculate RFM because canceled walks are not proper transactions."
      ]
    },
    {
      "cell_type": "code",
      "metadata": {
        "id": "s4TlYBWfOQOY"
      },
      "source": [
        "df= df[df[\"walkstatus\"] == \"Finished\"]"
      ],
      "execution_count": null,
      "outputs": []
    },
    {
      "cell_type": "markdown",
      "metadata": {
        "id": "dJ_69d3e6R__"
      },
      "source": [
        "### Preprocessing"
      ]
    },
    {
      "cell_type": "markdown",
      "metadata": {
        "id": "aqnWWN-VpWBi"
      },
      "source": [
        "There are some problematic rows in checkintime and ordercreatedtime such as check in time is not recent than order created time. Order creation is previous step of check in. Therefore, a new column is generated and latest date is selected from them."
      ]
    },
    {
      "cell_type": "code",
      "metadata": {
        "id": "nrFNtdRP6Ywn"
      },
      "source": [
        "df['checkin_revized'] = np.where(df['checkintime'] >= df['ordercreatedtime'], df['checkintime'], df['ordercreatedtime'])"
      ],
      "execution_count": null,
      "outputs": []
    },
    {
      "cell_type": "code",
      "metadata": {
        "id": "gkDZ4iypMXi1"
      },
      "source": [
        "df['checkin_revized'].sort_values(ascending=False)"
      ],
      "execution_count": null,
      "outputs": []
    },
    {
      "cell_type": "code",
      "metadata": {
        "id": "FsmaSXFrzarl"
      },
      "source": [
        "#df['checkin_revized'] = df[\"checkintime\"]"
      ],
      "execution_count": null,
      "outputs": []
    },
    {
      "cell_type": "code",
      "metadata": {
        "id": "NFbW3nvQ8yGN"
      },
      "source": [
        "df['checkin_revized'] = df['checkin_revized'].dt.normalize()"
      ],
      "execution_count": null,
      "outputs": []
    },
    {
      "cell_type": "code",
      "metadata": {
        "id": "1dL-rAAqJLpC"
      },
      "source": [
        "df.checkin_revized.sort_values(ascending=False).head(10)"
      ],
      "execution_count": null,
      "outputs": []
    },
    {
      "cell_type": "markdown",
      "metadata": {
        "id": "yB1o4TNPScLF"
      },
      "source": [
        "### Generating RFM and Tenure Columns\n",
        "\n",
        "RFM and tenure columns are generated using the part from the last year."
      ]
    },
    {
      "cell_type": "code",
      "metadata": {
        "id": "G1_j3S9E2GLZ"
      },
      "source": [
        "print(\"Min:{}; Max:{}\".format(min(df.checkin_revized), max(df.checkin_revized)))\n"
      ],
      "execution_count": null,
      "outputs": []
    },
    {
      "cell_type": "code",
      "metadata": {
        "id": "42m1-kLPubPo"
      },
      "source": [
        "'''import datetime\n",
        "\n",
        "start_date = pd.to_datetime('today')\n",
        "start_date'''\n"
      ],
      "execution_count": null,
      "outputs": []
    },
    {
      "cell_type": "code",
      "metadata": {
        "id": "bDXGIMzpPtM6"
      },
      "source": [
        "import datetime\n",
        "\n",
        "start_date = max(df.checkin_revized)\n",
        "start_date"
      ],
      "execution_count": null,
      "outputs": []
    },
    {
      "cell_type": "code",
      "metadata": {
        "id": "4Hq2yIRy6ybs"
      },
      "source": [
        "end_date = start_date - datetime.timedelta(days=365)\n",
        "end_date"
      ],
      "execution_count": null,
      "outputs": []
    },
    {
      "cell_type": "code",
      "metadata": {
        "id": "z4vq8e27umKo"
      },
      "source": [
        "mask = (df['checkin_revized'] > end_date) & (df['checkin_revized'] <= start_date)"
      ],
      "execution_count": null,
      "outputs": []
    },
    {
      "cell_type": "code",
      "metadata": {
        "id": "-2BuR_lQuxsi"
      },
      "source": [
        "df_lastyear = df.loc[mask]"
      ],
      "execution_count": null,
      "outputs": []
    },
    {
      "cell_type": "code",
      "metadata": {
        "id": "Wvmp4lp07cme"
      },
      "source": [
        "snapshot_date = start_date + datetime.timedelta(days=1)\n",
        "snapshot_date"
      ],
      "execution_count": null,
      "outputs": []
    },
    {
      "cell_type": "code",
      "metadata": {
        "id": "nB5GNlmKZF4k"
      },
      "source": [
        "datamart =  df_lastyear.groupby([\"ownerid\"]).agg({\"checkin_revized\": lambda x: (snapshot_date - x.max()).days,\n",
        "                                         \"checkintime\": \"count\",\n",
        "                                         \"amount\": \"sum\"})"
      ],
      "execution_count": null,
      "outputs": []
    },
    {
      "cell_type": "code",
      "metadata": {
        "id": "NWlteiFtcdgh"
      },
      "source": [
        "datamart.head()"
      ],
      "execution_count": null,
      "outputs": []
    },
    {
      "cell_type": "code",
      "metadata": {
        "id": "ZLGi8y74cutR"
      },
      "source": [
        "datamart.rename(columns={\"checkintime\": \"Frequency\",\n",
        "                         \"checkin_revized\": \"Recency\",\n",
        "                         \"amount\": \"MonetaryValue\"}, inplace=True)"
      ],
      "execution_count": null,
      "outputs": []
    },
    {
      "cell_type": "code",
      "metadata": {
        "id": "lGYee_U9dVyo"
      },
      "source": [
        "datamart_tenure = df.groupby([\"ownerid\"]).agg({\"checkin_revized\": lambda x: (snapshot_date - x.min()).days})"
      ],
      "execution_count": null,
      "outputs": []
    },
    {
      "cell_type": "code",
      "metadata": {
        "id": "I53MNo6CzStH"
      },
      "source": [
        "datamart = pd.merge(datamart, datamart_tenure, left_on=\"ownerid\", right_on=\"ownerid\", how='left')"
      ],
      "execution_count": null,
      "outputs": []
    },
    {
      "cell_type": "code",
      "metadata": {
        "id": "G7Rd1oOGzpGF"
      },
      "source": [
        "datamart.head()"
      ],
      "execution_count": null,
      "outputs": []
    },
    {
      "cell_type": "code",
      "metadata": {
        "id": "LgfCh12W0B7v"
      },
      "source": [
        "datamart.rename(columns={\"checkin_revized\": \"Tenure\"}, inplace=True)"
      ],
      "execution_count": null,
      "outputs": []
    },
    {
      "cell_type": "code",
      "metadata": {
        "id": "u8-dMvzE0KW0"
      },
      "source": [
        "datamart.head()"
      ],
      "execution_count": null,
      "outputs": []
    },
    {
      "cell_type": "code",
      "metadata": {
        "id": "DoQFQ762-8Re"
      },
      "source": [
        "datamart.describe()"
      ],
      "execution_count": null,
      "outputs": []
    },
    {
      "cell_type": "markdown",
      "metadata": {
        "id": "Hza2ubyB08ou"
      },
      "source": [
        "Frequency and monetary are highly correlated, so frequency is excluded from RFM analysis. The analyses are completed using Recency, Monetary and Tenure features."
      ]
    },
    {
      "cell_type": "code",
      "metadata": {
        "id": "0K4NBS1jQUXk"
      },
      "source": [
        "heatmap_all = sns.heatmap(datamart.corr(), vmin=-1, vmax=1, annot=True)"
      ],
      "execution_count": null,
      "outputs": []
    },
    {
      "cell_type": "code",
      "metadata": {
        "id": "K1vBIqA5ge1a"
      },
      "source": [
        "datamart = datamart.drop(\"Frequency\", axis=1)"
      ],
      "execution_count": null,
      "outputs": []
    },
    {
      "cell_type": "markdown",
      "metadata": {
        "id": "Scyl1NQITYqt"
      },
      "source": [
        "##K-means"
      ]
    },
    {
      "cell_type": "markdown",
      "metadata": {
        "id": "1A8_Dntm36sC"
      },
      "source": [
        "### Normalization"
      ]
    },
    {
      "cell_type": "markdown",
      "metadata": {
        "id": "Ni2KeNzA33SV"
      },
      "source": [
        "Recency, Monetary and Tenure features are tried to normalise using four different transformation methods: square root, reciprocal, log, and boxcox one by one. All process failed, but the nearest values to normal distribution are obtained thanks to boxcox method."
      ]
    },
    {
      "cell_type": "code",
      "metadata": {
        "id": "PQa2Vksz_SPz"
      },
      "source": [
        "sns.distplot(datamart[\"Recency\"])\n",
        "plt.show()"
      ],
      "execution_count": null,
      "outputs": []
    },
    {
      "cell_type": "code",
      "metadata": {
        "id": "yaC37nb3NskQ"
      },
      "source": [
        "sns.distplot(datamart[\"MonetaryValue\"])\n",
        "plt.show()"
      ],
      "execution_count": null,
      "outputs": []
    },
    {
      "cell_type": "code",
      "metadata": {
        "id": "ysq26kHo34rS"
      },
      "source": [
        "sns.distplot(datamart[\"Tenure\"])\n",
        "plt.show()"
      ],
      "execution_count": null,
      "outputs": []
    },
    {
      "cell_type": "code",
      "metadata": {
        "id": "ysmuoY_O0KsG"
      },
      "source": [
        "from scipy import stats\n",
        "\n",
        "shapiro_Recency= stats.shapiro(datamart.Recency)\n",
        "\n",
        "shapiro_MonetaryValue= stats.shapiro(datamart.MonetaryValue)\n",
        "\n",
        "shapiro_Tenure= stats.shapiro(datamart.Tenure)\n",
        "\n",
        "print(\"Shapiro Score of Recency: {}\".format(shapiro_Recency))\n",
        "print(\"Shapiro Score of MonetaryValue: {}\".format(shapiro_MonetaryValue))\n",
        "print(\"Shapiro Score of Tenure: {}\".format(shapiro_Tenure))"
      ],
      "execution_count": null,
      "outputs": []
    },
    {
      "cell_type": "code",
      "metadata": {
        "id": "nr58KGzV2hBd"
      },
      "source": [
        "from scipy.stats import normaltest\n",
        "k2, p = normaltest(datamart.Tenure)\n",
        "print(p)"
      ],
      "execution_count": null,
      "outputs": []
    },
    {
      "cell_type": "code",
      "metadata": {
        "id": "6HBQfEw9NxVI"
      },
      "source": [
        "datamart_log = np.log(datamart)\n",
        "\n",
        "plt.subplot(3,1,1) ; sns.distplot(datamart_log[\"Recency\"])\n",
        "\n",
        "plt.subplot(3,1,2) ; sns.distplot(datamart_log[\"MonetaryValue\"])\n",
        "\n",
        "plt.subplot(3,1,3) ; sns.distplot(datamart_log[\"Tenure\"])\n"
      ],
      "execution_count": null,
      "outputs": []
    },
    {
      "cell_type": "code",
      "metadata": {
        "id": "hmVpX-nW1zP6"
      },
      "source": [
        "from scipy import stats\n",
        "\n",
        "shapiro_Recency_log= stats.shapiro(datamart_log.Recency)\n",
        "\n",
        "shapiro_MonetaryValue_log= stats.shapiro(datamart_log.MonetaryValue)\n",
        "\n",
        "shapiro_Tenure_log= stats.shapiro(datamart_log.Tenure)\n",
        "\n",
        "print(\"Shapiro Score of Recency: {}\".format(shapiro_Recency_log))\n",
        "print(\"Shapiro Score of MonetaryValue: {}\".format(shapiro_MonetaryValue_log))\n",
        "print(\"Shapiro Score of Tenure: {}\".format(shapiro_Tenure_log))"
      ],
      "execution_count": null,
      "outputs": []
    },
    {
      "cell_type": "code",
      "metadata": {
        "id": "aDbhbk76qq7s"
      },
      "source": [
        "datamart_sqrt = (datamart)**(0.5)\n",
        "\n",
        "plt.subplot(3,1,1) ; sns.distplot(datamart_sqrt[\"Recency\"])\n",
        "\n",
        "plt.subplot(3,1,2) ; sns.distplot(datamart_sqrt[\"MonetaryValue\"])\n",
        "\n",
        "plt.subplot(3,1,3) ; sns.distplot(datamart_sqrt[\"Tenure\"])"
      ],
      "execution_count": null,
      "outputs": []
    },
    {
      "cell_type": "code",
      "metadata": {
        "id": "NvIFqyLvrT_R"
      },
      "source": [
        "from scipy import stats\n",
        "print(stats.shapiro(datamart_sqrt[\"Recency\"]))\n",
        "print(stats.shapiro(datamart_sqrt[\"MonetaryValue\"]))\n",
        "print(stats.shapiro(datamart_sqrt[\"Tenure\"]))"
      ],
      "execution_count": null,
      "outputs": []
    },
    {
      "cell_type": "code",
      "metadata": {
        "id": "d6qRKjTCq1xD"
      },
      "source": [
        "datamart_recip = 1/datamart\n",
        "\n",
        "plt.subplot(3,1,1) ; sns.distplot(datamart_recip[\"Recency\"])\n",
        "\n",
        "plt.subplot(3,1,2) ; sns.distplot(datamart_recip[\"MonetaryValue\"])\n",
        "\n",
        "plt.subplot(3,1,3) ; sns.distplot(datamart_recip[\"Tenure\"])"
      ],
      "execution_count": null,
      "outputs": []
    },
    {
      "cell_type": "code",
      "metadata": {
        "id": "RHZo3YrArdto"
      },
      "source": [
        "from scipy import stats\n",
        "print(stats.shapiro(datamart_recip[\"Recency\"]))\n",
        "print(stats.shapiro(datamart_recip[\"MonetaryValue\"]))\n",
        "print(stats.shapiro(datamart_recip[\"Tenure\"]))"
      ],
      "execution_count": null,
      "outputs": []
    },
    {
      "cell_type": "code",
      "metadata": {
        "id": "z5YY8RJ-q87M"
      },
      "source": [
        "datamart_boxcox = datamart.copy()\n",
        "from scipy.stats import boxcox\n",
        "for i in datamart_boxcox:\n",
        "  datamart_boxcox[i], lmbda = boxcox(datamart_boxcox[i], lmbda=None)\n",
        "\n",
        "plt.subplot(3,1,1) ; sns.distplot(datamart_boxcox[\"Recency\"])\n",
        "\n",
        "plt.subplot(3,1,2) ; sns.distplot(datamart_boxcox[\"MonetaryValue\"])\n",
        "\n",
        "plt.subplot(3,1,3) ; sns.distplot(datamart_boxcox[\"Tenure\"])"
      ],
      "execution_count": null,
      "outputs": []
    },
    {
      "cell_type": "code",
      "metadata": {
        "id": "Xd6UWshUrheH"
      },
      "source": [
        "from scipy import stats\n",
        "print(stats.shapiro(datamart_boxcox[\"Recency\"]))\n",
        "print(stats.shapiro(datamart_boxcox[\"MonetaryValue\"]))\n",
        "print(stats.shapiro(datamart_boxcox[\"Tenure\"]))"
      ],
      "execution_count": null,
      "outputs": []
    },
    {
      "cell_type": "markdown",
      "metadata": {
        "id": "Hx81TWNB5csB"
      },
      "source": [
        "### *Scaling the Data*"
      ]
    },
    {
      "cell_type": "markdown",
      "metadata": {
        "id": "De9MqtTd5cfs"
      },
      "source": [
        "Minmax scaler and Robust scaler are used to scale the data, and Minmax scaler gives better results."
      ]
    },
    {
      "cell_type": "code",
      "metadata": {
        "id": "2t_HOUqpOwHZ"
      },
      "source": [
        "from sklearn.preprocessing import MinMaxScaler\n",
        "scaler = MinMaxScaler()\n",
        "scaler.fit(datamart_boxcox)"
      ],
      "execution_count": null,
      "outputs": []
    },
    {
      "cell_type": "code",
      "metadata": {
        "id": "SxIrDBhZQl-c"
      },
      "source": [
        "datamart_normalized = scaler.transform(datamart_boxcox)"
      ],
      "execution_count": null,
      "outputs": []
    },
    {
      "cell_type": "code",
      "metadata": {
        "id": "yTKcHFOFUEH7"
      },
      "source": [
        "datamart_normalized = pd.DataFrame(data=datamart_normalized, index=datamart.index, columns=datamart.columns)"
      ],
      "execution_count": null,
      "outputs": []
    },
    {
      "cell_type": "code",
      "metadata": {
        "id": "8eUoHxoJokKv"
      },
      "source": [
        "datamart_normalized.head()"
      ],
      "execution_count": null,
      "outputs": []
    },
    {
      "cell_type": "code",
      "metadata": {
        "id": "tpDgaHg2Vdxi"
      },
      "source": [
        "heatmap = sns.heatmap(datamart_normalized.corr(), vmin=-1, vmax=1, annot=True)"
      ],
      "execution_count": null,
      "outputs": []
    },
    {
      "cell_type": "code",
      "metadata": {
        "id": "fNoLOOH0Ub3J"
      },
      "source": [
        "print(datamart_normalized.describe().round(2))"
      ],
      "execution_count": null,
      "outputs": []
    },
    {
      "cell_type": "markdown",
      "metadata": {
        "id": "1xQWhTabTHMZ"
      },
      "source": [
        "### Application of K-means"
      ]
    },
    {
      "cell_type": "markdown",
      "metadata": {
        "id": "zo7dgxTEjJJ_"
      },
      "source": [
        "#### The Elbow Method"
      ]
    },
    {
      "cell_type": "markdown",
      "metadata": {
        "id": "wHVsrk4Nf7eV"
      },
      "source": [
        "Firstly, the elbow method is applied with 10 options which are from 1 to 10. 3 seems like a good option, but the silhouette score graph can be clearer to determine the number of clusters."
      ]
    },
    {
      "cell_type": "code",
      "metadata": {
        "id": "kEAlzGRuUvpD"
      },
      "source": [
        "from sklearn.cluster import KMeans\n",
        "sse = {}\n",
        "for k in range(1,26):\n",
        "  kmeans = KMeans(n_clusters=k, n_init=10, random_state=1)\n",
        "  kmeans.fit(datamart_normalized)\n",
        "  sse[k] = kmeans.inertia_\n",
        "\n",
        "plt.title(\"The Elbow Method\")\n",
        "plt.xlabel(\"k\")\n",
        "plt.ylabel(\"SSE\")\n",
        "sns.pointplot(x=list(sse.keys()), y=list(sse.values()))\n",
        "plt.show()"
      ],
      "execution_count": null,
      "outputs": []
    },
    {
      "cell_type": "code",
      "metadata": {
        "id": "SJNmX2LQpLEL"
      },
      "source": [
        "def optimal_kmeans(dataset, start=2, end=11):\n",
        "    '''\n",
        "    Calculate the optimal number of kmeans\n",
        " \n",
        "    INPUT:\n",
        "        dataset : dataframe. Dataset for k-means to fit\n",
        "        start : int. Starting range of kmeans to test\n",
        "        end : int. Ending range of kmeans to test\n",
        "    OUTPUT:\n",
        "        Values and line plot of Silhouette Score.\n",
        "    '''\n",
        " \n",
        "    # Create empty lists to store values for plotting graphs\n",
        "    n_clu = []\n",
        "    km_ss = []\n",
        " \n",
        "    # Create a for loop to find optimal n_clusters\n",
        "    for n_clusters in range(start, end):\n",
        " \n",
        "        # Create cluster labels\n",
        "        kmeans = KMeans(n_clusters=n_clusters, n_init=10, random_state=1)\n",
        "        labels = kmeans.fit_predict(dataset)\n",
        " \n",
        "        # Calcualte model performance\n",
        "        silhouette_avg = round(silhouette_score(dataset, labels, random_state=1), 3)\n",
        " \n",
        "        # Append score to lists\n",
        "        km_ss.append(silhouette_avg)\n",
        "        n_clu.append(n_clusters)\n",
        " \n",
        "        print(\"No. Clusters: {}, Silhouette Score: {}, Change from Previous Cluster: {}\".format(\n",
        "            n_clusters,\n",
        "            silhouette_avg,\n",
        "            (km_ss[n_clusters - start] - km_ss[n_clusters - start - 1]).round(3)))\n",
        " \n",
        "        # Plot graph at the end of loop\n",
        "        if n_clusters == end - 1:\n",
        "            plt.figure(figsize=(6.47,3))\n",
        " \n",
        "            plt.title('Silhouette Score')\n",
        "            sns.pointplot(x=n_clu, y=km_ss)\n",
        "            plt.tight_layout()\n",
        "            plt.show()"
      ],
      "execution_count": null,
      "outputs": []
    },
    {
      "cell_type": "markdown",
      "metadata": {
        "id": "dymrMZWljPNL"
      },
      "source": [
        "#### Silhouette Score "
      ]
    },
    {
      "cell_type": "markdown",
      "metadata": {
        "id": "-jmKgJbchEpW"
      },
      "source": [
        "A silhouette score graph is plotted, and it includes the cluster numbers from 2 to 10. There is a peak on 5, and the graph slightly increases on 7, 8 and 10. 5, 7, 8, and 10 are determined as important clusters for this project, and they are check by visualizing on different plots."
      ]
    },
    {
      "cell_type": "code",
      "metadata": {
        "id": "eORrA5m8qrIe"
      },
      "source": [
        "from sklearn.metrics import silhouette_score"
      ],
      "execution_count": null,
      "outputs": []
    },
    {
      "cell_type": "code",
      "metadata": {
        "id": "FGFP1vfbqGwS"
      },
      "source": [
        "optimal_kmeans(datamart_normalized, start=2, end=26)"
      ],
      "execution_count": null,
      "outputs": []
    },
    {
      "cell_type": "markdown",
      "metadata": {
        "id": "IKXD7FcVjZND"
      },
      "source": [
        "#### Application of PCA to Convert from 3D to 2D"
      ]
    },
    {
      "cell_type": "markdown",
      "metadata": {
        "id": "negUhADnir-S"
      },
      "source": [
        "Clustering is carried out with 8 clusters using K-means algorithm as the first trial, and its results are plotted on two dimensions. PCA is used to convert from 3 to 2 dimensions."
      ]
    },
    {
      "cell_type": "code",
      "metadata": {
        "id": "gUISsi2j0YkZ"
      },
      "source": [
        "def kmeans_pca(df, n_clusters):\n",
        "  kmeans = KMeans(n_clusters=n_clusters, n_init=20, random_state=1)\n",
        "  datamart_k8_stat = kmeans.fit(df)\n",
        "\n",
        "  labels = kmeans.labels_\n",
        "  centers= kmeans.cluster_centers_\n",
        "  clusters= kmeans.predict(df)\n",
        "\n",
        "  from sklearn.decomposition import PCA\n",
        "  pca = PCA(n_components=2, random_state=1)\n",
        "  pca.fit(df)\n",
        "\n",
        "  datamart_pca = pca.transform(df)\n",
        "\n",
        "  datamart_pca = pd.DataFrame(datamart_pca, columns=[\"PCA1\", \"PCA2\"])\n",
        "  datamart_pca[\"Clusters\"] = clusters\n",
        "\n",
        "  pca.fit(centers)\n",
        "  centers_pca = pca.transform(centers)\n",
        "\n",
        "  colors = [\"#FF0B04\", \"#4374B3\",\"#FF0B04\", \"#4374B3\",\"#FF0B04\", \"#4374B3\",\"#FF0B04\", \"#4374B3\",\"#FF0B04\", \"#4374B3\",\"#FF0B04\", \"#4374B3\",\"#FF0B04\", \"#4374B3\",\"#FF0B04\"]\n",
        "  custompalette = sns.set_palette(sns.color_palette(colors))\n",
        "\n",
        "  plt.figure(figsize=(14,10))\n",
        "  sns.scatterplot(datamart_pca[\"PCA1\"], datamart_pca[\"PCA2\"], hue=clusters, s=25, palette=\"brg\")\n",
        "  sns.scatterplot(centers_pca[:, 0], centers_pca[:, 1], marker=\"o\", s=200, alpha=0.8);\n",
        "\n",
        "  plt.xlabel(\"PCA1\")\n",
        "  plt.ylabel(\"PCA2\")\n",
        "\n",
        "  plt.show()"
      ],
      "execution_count": null,
      "outputs": []
    },
    {
      "cell_type": "code",
      "metadata": {
        "id": "JGBVvuRs1JFK"
      },
      "source": [
        "kmeans_pca(datamart_normalized, 8)"
      ],
      "execution_count": null,
      "outputs": []
    },
    {
      "cell_type": "code",
      "metadata": {
        "id": "YS29b1bCeCJg"
      },
      "source": [
        "kmeans = KMeans(n_clusters=8, n_init=20, random_state=1)\n",
        "datamart_k8_stat = kmeans.fit(datamart_normalized)"
      ],
      "execution_count": null,
      "outputs": []
    },
    {
      "cell_type": "code",
      "metadata": {
        "id": "82El5RmRkFJI"
      },
      "source": [
        "labels = kmeans.labels_\n",
        "centers= kmeans.cluster_centers_\n",
        "clusters= kmeans.predict(datamart_normalized)"
      ],
      "execution_count": null,
      "outputs": []
    },
    {
      "cell_type": "code",
      "metadata": {
        "id": "6G0M1fOHkMih"
      },
      "source": [
        "centers.shape"
      ],
      "execution_count": null,
      "outputs": []
    },
    {
      "cell_type": "code",
      "metadata": {
        "id": "qbQvwwwMomE2"
      },
      "source": [
        "datamart_normalized.shape"
      ],
      "execution_count": null,
      "outputs": []
    },
    {
      "cell_type": "code",
      "metadata": {
        "id": "uEyFaJcQsKZ7"
      },
      "source": [
        "from sklearn.decomposition import PCA\n",
        "pca = PCA(n_components=2, random_state=1)\n",
        "pca.fit(datamart_normalized)"
      ],
      "execution_count": null,
      "outputs": []
    },
    {
      "cell_type": "code",
      "metadata": {
        "id": "JB9vCJ15tVog"
      },
      "source": [
        "datamart_pca = pca.transform(datamart_normalized)\n",
        "datamart_pca.shape"
      ],
      "execution_count": null,
      "outputs": []
    },
    {
      "cell_type": "code",
      "metadata": {
        "id": "cyYbVXObgsl4"
      },
      "source": [
        "datamart_pca = pd.DataFrame(datamart_pca, columns=[\"PCA1\", \"PCA2\"])"
      ],
      "execution_count": null,
      "outputs": []
    },
    {
      "cell_type": "code",
      "metadata": {
        "id": "isgE5ZQ-jvoF"
      },
      "source": [
        "datamart_pca[\"Clusters\"] = clusters"
      ],
      "execution_count": null,
      "outputs": []
    },
    {
      "cell_type": "code",
      "metadata": {
        "id": "TmQ5GmnZkjHC"
      },
      "source": [
        "datamart_pca"
      ],
      "execution_count": null,
      "outputs": []
    },
    {
      "cell_type": "code",
      "metadata": {
        "id": "fZBV6do5kro8"
      },
      "source": [
        "pca.fit(centers)\n",
        "centers_pca = pca.transform(centers)\n",
        "centers_pca.shape"
      ],
      "execution_count": null,
      "outputs": []
    },
    {
      "cell_type": "code",
      "metadata": {
        "id": "dGgSLfQlWPil"
      },
      "source": [
        "'''datamart_normalized_centers = datamart_normalized\n",
        "datamart_normalized_centers['cluster'] = clusters\n",
        "\n",
        "# get centroids\n",
        "cen_x = [i[0] for i in centers] \n",
        "cen_y = [i[1] for i in centers]\n",
        "\n",
        "## add to datamart_normalized\n",
        "datamart_normalized_centers['cen_x'] = datamart_normalized_centers.cluster.map({0:cen_x[0], 1:cen_x[1], 2:cen_x[2]})\n",
        "datamart_normalized_centers['cen_y'] = datamart_normalized_centers.cluster.map({0:cen_y[0], 1:cen_y[1], 2:cen_y[2]})'''"
      ],
      "execution_count": null,
      "outputs": []
    },
    {
      "cell_type": "code",
      "metadata": {
        "id": "fBLDQb7JlAxg"
      },
      "source": [
        "plt.figure(figsize=(14,10))\n",
        "sns.scatterplot(datamart_pca[\"PCA1\"], datamart_pca[\"PCA2\"], hue=clusters, s=25, palette=\"brg\")\n",
        "sns.scatterplot(centers_pca[:, 0], centers_pca[:, 1], marker=\"o\", s=200, alpha=0.8);\n",
        "\n",
        "plt.xlabel(\"PCA1\")\n",
        "plt.ylabel(\"PCA2\")\n",
        "\n",
        "plt.show()"
      ],
      "execution_count": null,
      "outputs": []
    },
    {
      "cell_type": "code",
      "metadata": {
        "id": "JfG044n8l5EQ"
      },
      "source": [
        "'''plt.figure(figsize=(14,10))\n",
        "\n",
        "plt.scatter(datamart_pca[datamart_pca[\"Clusters\"] == 0].loc[:, \"PCA1\"], datamart_pca[datamart_pca[\"Clusters\"] == 0].loc[:, \"PCA2\"], color=\"red\")\n",
        "plt.scatter(datamart_pca[datamart_pca[\"Clusters\"] == 1].loc[:, \"PCA1\"], datamart_pca[datamart_pca[\"Clusters\"] == 1].loc[:, \"PCA2\"], color=\"blue\")\n",
        "plt.scatter(datamart_pca[datamart_pca[\"Clusters\"] == 2].loc[:, \"PCA1\"], datamart_pca[datamart_pca[\"Clusters\"] == 2].loc[:, \"PCA2\"], color=\"cyan\")\n",
        "plt.scatter(datamart_pca[datamart_pca[\"Clusters\"] == 3].loc[:, \"PCA1\"], datamart_pca[datamart_pca[\"Clusters\"] == 3].loc[:, \"PCA2\"], color=\"yellow\")\n",
        "plt.scatter(datamart_pca[datamart_pca[\"Clusters\"] == 4].loc[:, \"PCA1\"], datamart_pca[datamart_pca[\"Clusters\"] == 4].loc[:, \"PCA2\"], color=\"green\")\n",
        "plt.scatter(datamart_pca[datamart_pca[\"Clusters\"] == 5].loc[:, \"PCA1\"], datamart_pca[datamart_pca[\"Clusters\"] == 5].loc[:, \"PCA2\"], color=\"black\")\n",
        "plt.scatter(datamart_pca[datamart_pca[\"Clusters\"] == 6].loc[:, \"PCA1\"], datamart_pca[datamart_pca[\"Clusters\"] == 6].loc[:, \"PCA2\"], color=\"white\")\n",
        "plt.scatter(datamart_pca[datamart_pca[\"Clusters\"] == 7].loc[:, \"PCA1\"], datamart_pca[datamart_pca[\"Clusters\"] == 7].loc[:, \"PCA2\"], color=\"purple\")\n",
        "plt.scatter(datamart_pca[datamart_pca[\"Clusters\"] == 8].loc[:, \"PCA1\"], datamart_pca[datamart_pca[\"Clusters\"] == 8].loc[:, \"PCA2\"], color=\"yellow\")\n",
        "plt.scatter(datamart_pca[datamart_pca[\"Clusters\"] == 9].loc[:, \"PCA1\"], datamart_pca[datamart_pca[\"Clusters\"] == 9].loc[:, \"PCA2\"], color=\"green\")\n",
        "plt.scatter(datamart_pca[datamart_pca[\"Clusters\"] == 10].loc[:, \"PCA1\"], datamart_pca[datamart_pca[\"Clusters\"] == 10].loc[:, \"PCA2\"], color=\"red\")\n",
        "plt.scatter(datamart_pca[datamart_pca[\"Clusters\"] == 11].loc[:, \"PCA1\"], datamart_pca[datamart_pca[\"Clusters\"] == 11].loc[:, \"PCA2\"], color=\"blue\")\n",
        "plt.scatter(datamart_pca[datamart_pca[\"Clusters\"] == 12].loc[:, \"PCA1\"], datamart_pca[datamart_pca[\"Clusters\"] == 12].loc[:, \"PCA2\"], color=\"cyan\")\n",
        "plt.scatter(datamart_pca[datamart_pca[\"Clusters\"] == 13].loc[:, \"PCA1\"], datamart_pca[datamart_pca[\"Clusters\"] == 13].loc[:, \"PCA2\"], color=\"yellow\")\n",
        "plt.scatter(datamart_pca[datamart_pca[\"Clusters\"] == 14].loc[:, \"PCA1\"], datamart_pca[datamart_pca[\"Clusters\"] == 14].loc[:, \"PCA2\"], color=\"green\")\n",
        "\n",
        "plt.scatter(centers_pca[:, 0], centers_pca[:, 1], c='black', marker=\"x\", s=200, alpha=0.8)\n",
        "\n",
        "plt.xlabel(\"PCA1\")\n",
        "plt.ylabel(\"PCA2\")\n",
        "\n",
        "plt.show()'''"
      ],
      "execution_count": null,
      "outputs": []
    },
    {
      "cell_type": "code",
      "metadata": {
        "id": "lNjbs7Z6d1J-"
      },
      "source": [
        "datamart_normalized"
      ],
      "execution_count": null,
      "outputs": []
    },
    {
      "cell_type": "markdown",
      "metadata": {
        "id": "CbcwBc67jEun"
      },
      "source": [
        "#### Pair Plots"
      ]
    },
    {
      "cell_type": "markdown",
      "metadata": {
        "id": "TxvnymRYkBT2"
      },
      "source": [
        "Different pairs are plotted to understand the differences of clusters such as tenure with recency or recency with monetary."
      ]
    },
    {
      "cell_type": "code",
      "metadata": {
        "id": "aXWs5Ok4Up68"
      },
      "source": [
        "datamart_normalized_multiple = datamart_normalized.copy()"
      ],
      "execution_count": null,
      "outputs": []
    },
    {
      "cell_type": "code",
      "metadata": {
        "id": "R7wVhZzUucEj"
      },
      "source": [
        "# k means\n",
        "kmeans = KMeans(n_clusters=8, random_state=0)\n",
        "datamart_normalized_multiple['cluster'] = kmeans.fit_predict(datamart_normalized[['Recency', 'MonetaryValue']])\n",
        "\n",
        "# get centroids\n",
        "centroids = kmeans.cluster_centers_\n",
        "cen_x = [i[0] for i in centroids] \n",
        "cen_y = [i[1] for i in centroids]\n",
        "\n",
        "## add to datamart_normalized_multiple\n",
        "datamart_normalized_multiple['cen_x'] = datamart_normalized_multiple.cluster.map({0:cen_x[0], 1:cen_x[1], 2:cen_x[2], 3:cen_x[3], 4:cen_x[4], 5:cen_x[5], 6:cen_x[6],\n",
        "                                                                                  7:cen_x[7]})\n",
        "\n",
        "datamart_normalized_multiple['cen_y'] = datamart_normalized_multiple.cluster.map({0:cen_y[0], 1:cen_y[1], 2:cen_y[2], 3:cen_x[3], 4:cen_x[4], 5:cen_x[5], 6:cen_x[6],\n",
        "                                                                                  7:cen_y[7]})\n",
        "\n",
        "# define and map colors\n",
        "colors = ['#DF2020', '#00756F', '#005DFF', '#060000', '#FF33FF', '#2EFF00', '#E8FF00', \"#000000\", \"#FF00FF\", \"#000000\", \"#FFA07A\", \"#F08080\", \"#5F1E1E\", \"#FF9E00\", \"#5C395C\"]\n",
        "\n",
        "datamart_normalized_multiple['c'] = datamart_normalized_multiple.cluster.map({0:colors[0], 1:colors[1], 2:colors[2], 3:colors[3], 4:colors[4], 5:colors[5], 6:colors[6],\n",
        "                                                                              7:colors[7]})\n",
        "\n",
        "#####PLOT#####\n",
        "from matplotlib.lines import Line2D\n",
        "fig, ax = plt.subplots(1, figsize=(14,14))\n",
        "# plot data\n",
        "plt.scatter(datamart_normalized_multiple.Recency, datamart_normalized_multiple.MonetaryValue, c=datamart_normalized_multiple.c, alpha = 0.6, s=10)\n",
        "\n",
        "plt.scatter(cen_x, cen_y, marker='^', c=\"black\", s=100, alpha=0.5)\n",
        "# create a list of legend elemntes\n",
        "## markers / records\n",
        "legend_elements = [Line2D([0], [0], marker='o', color='w', label='Cluster {}'.format(i+1), \n",
        "               markerfacecolor=mcolor, markersize=5) for i, mcolor in enumerate(colors)]\n",
        "# plot legend\n",
        "plt.legend(handles=legend_elements, loc='upper right')\n",
        "# title and labels\n",
        "plt.title('\\nRecency - MonetaryValue\\n', loc='left', fontsize=22)\n",
        "plt.xlabel('Recency')\n",
        "plt.ylabel('MonetaryValue')\n"
      ],
      "execution_count": null,
      "outputs": []
    },
    {
      "cell_type": "code",
      "metadata": {
        "id": "jBBMLVyl9UuW"
      },
      "source": [
        "# k means\n",
        "kmeans = KMeans(n_clusters=8, random_state=0)\n",
        "datamart_normalized_multiple['cluster'] = kmeans.fit_predict(datamart_normalized[['Tenure', 'MonetaryValue']])\n",
        "\n",
        "# get centroids\n",
        "centroids = kmeans.cluster_centers_\n",
        "cen_x = [i[0] for i in centroids] \n",
        "cen_y = [i[1] for i in centroids]\n",
        "\n",
        "## add to datamart_normalized_multiple\n",
        "datamart_normalized_multiple['cen_x'] = datamart_normalized_multiple.cluster.map({0:cen_x[0], 1:cen_x[1], 2:cen_x[2], 3:cen_x[3], 4:cen_x[4], 5:cen_x[5], 6:cen_x[6],\n",
        "                                                                                  7:cen_x[7]})\n",
        "\n",
        "datamart_normalized_multiple['cen_y'] = datamart_normalized_multiple.cluster.map({0:cen_y[0], 1:cen_y[1], 2:cen_y[2], 3:cen_x[3], 4:cen_x[4], 5:cen_x[5], 6:cen_x[6],\n",
        "                                                                                  7:cen_y[7]})\n",
        "\n",
        "# define and map colors\n",
        "colors = ['#DF2020', '#00756F', '#005DFF', '#060000', '#FF33FF', '#2EFF00', '#E8FF00', \"#000000\", \"#FF00FF\", \"#000000\", \"#FFA07A\", \"#F08080\", \"#5F1E1E\", \"#FF9E00\", \"#5C395C\"]\n",
        "\n",
        "datamart_normalized_multiple['c'] = datamart_normalized_multiple.cluster.map({0:colors[0], 1:colors[1], 2:colors[2], 3:colors[3], 4:colors[4], 5:colors[5], 6:colors[6],\n",
        "                                                                              7:colors[7]})\n",
        "\n",
        "#####PLOT#####\n",
        "from matplotlib.lines import Line2D\n",
        "fig, ax = plt.subplots(1, figsize=(14,14))\n",
        "# plot data\n",
        "plt.scatter(datamart_normalized_multiple.Tenure, datamart_normalized_multiple.MonetaryValue, c=datamart_normalized_multiple.c, alpha = 0.6, s=10)\n",
        "\n",
        "plt.scatter(cen_x, cen_y, marker='^', c=\"black\", s=70, alpha=0.5)\n",
        "# create a list of legend elemntes\n",
        "## markers / records\n",
        "legend_elements = [Line2D([0], [0], marker='o', color='w', label='Cluster {}'.format(i+1), \n",
        "               markerfacecolor=mcolor, markersize=5) for i, mcolor in enumerate(colors)]\n",
        "# plot legend\n",
        "plt.legend(handles=legend_elements, loc='upper right')\n",
        "# title and labels\n",
        "plt.title('\\nTenure - MonetaryValue\\n', loc='left', fontsize=22)\n",
        "plt.xlabel('Tenure')\n",
        "plt.ylabel('MonetaryValue')"
      ],
      "execution_count": null,
      "outputs": []
    },
    {
      "cell_type": "code",
      "metadata": {
        "id": "4xOfeaSDcLLj"
      },
      "source": [
        "# k means\n",
        "kmeans = KMeans(n_clusters=8, random_state=0)\n",
        "datamart_normalized_multiple['cluster'] = kmeans.fit_predict(datamart_normalized[['Tenure', 'Recency']])\n",
        "\n",
        "# get centroids\n",
        "centroids = kmeans.cluster_centers_\n",
        "cen_x = [i[0] for i in centroids] \n",
        "cen_y = [i[1] for i in centroids]\n",
        "\n",
        "## add to datamart_normalized_multiple\n",
        "datamart_normalized_multiple['cen_x'] = datamart_normalized_multiple.cluster.map({0:cen_x[0], 1:cen_x[1], 2:cen_x[2], 3:cen_x[3], 4:cen_x[4], 5:cen_x[5], 6:cen_x[6],\n",
        "                                                                                  7:cen_x[7]})\n",
        "\n",
        "datamart_normalized_multiple['cen_y'] = datamart_normalized_multiple.cluster.map({0:cen_y[0], 1:cen_y[1], 2:cen_y[2], 3:cen_x[3], 4:cen_x[4], 5:cen_x[5], 6:cen_x[6],\n",
        "                                                                                  7:cen_y[7]})\n",
        "\n",
        "# define and map colors\n",
        "colors = ['#DF2020', '#00756F', '#005DFF', '#060000', '#FF33FF', '#2EFF00', '#E8FF00', \"#000000\", \"#FF00FF\", \"#000000\", \"#FFA07A\", \"#F08080\", \"#5F1E1E\", \"#FF9E00\", \"#5C395C\"]\n",
        "\n",
        "datamart_normalized_multiple['c'] = datamart_normalized_multiple.cluster.map({0:colors[0], 1:colors[1], 2:colors[2], 3:colors[3], 4:colors[4], 5:colors[5], 6:colors[6],\n",
        "                                                                              7:colors[7]})\n",
        "\n",
        "#####PLOT#####\n",
        "from matplotlib.lines import Line2D\n",
        "fig, ax = plt.subplots(1, figsize=(14,14))\n",
        "# plot data\n",
        "plt.scatter(datamart_normalized_multiple.Tenure, datamart_normalized_multiple.Recency, c=datamart_normalized_multiple.c, alpha = 0.6, s=10)\n",
        "\n",
        "plt.scatter(cen_x, cen_y, marker='^', c=\"black\", s=70, alpha=0.5)\n",
        "# create a list of legend elemntes\n",
        "## markers / records\n",
        "legend_elements = [Line2D([0], [0], marker='o', color='w', label='Cluster {}'.format(i+1), \n",
        "               markerfacecolor=mcolor, markersize=5) for i, mcolor in enumerate(colors)]\n",
        "# plot legend\n",
        "plt.legend(handles=legend_elements, loc='upper right')\n",
        "# title and labels\n",
        "plt.title('\\nTenure - Recency\\n', loc='left', fontsize=22)\n",
        "plt.xlabel('Tenure')\n",
        "plt.ylabel('Recency')"
      ],
      "execution_count": null,
      "outputs": []
    },
    {
      "cell_type": "code",
      "metadata": {
        "id": "n3rZpDU2dQNy"
      },
      "source": [
        "datamart_normalized"
      ],
      "execution_count": null,
      "outputs": []
    },
    {
      "cell_type": "markdown",
      "metadata": {
        "id": "pYV9R9NNkqWT"
      },
      "source": [
        "#### Visualization of Important Cluster Numbers"
      ]
    },
    {
      "cell_type": "markdown",
      "metadata": {
        "id": "kee4F00ok3zk"
      },
      "source": [
        "PCA method and pair plots are applied for all important cluster numbers."
      ]
    },
    {
      "cell_type": "code",
      "metadata": {
        "id": "fHoFx0P3u4_n"
      },
      "source": [
        "important_clusters = [3, 8, 11, 15]\n",
        "for i in important_clusters:\n",
        "  kmeans = KMeans(n_clusters=i, n_init=20, random_state=1)\n",
        "  datamart_k = kmeans.fit(datamart_normalized)\n",
        "\n",
        "  centers= kmeans.cluster_centers_\n",
        "  clusters= kmeans.predict(datamart_normalized)\n",
        "\n",
        "  from sklearn.decomposition import PCA\n",
        "  pca = PCA(n_components=2, random_state=1)\n",
        "  pca.fit(datamart_normalized)\n",
        "\n",
        "  datamart_pca = pca.transform(datamart_normalized)\n",
        " \n",
        "\n",
        "  datamart_pca = pd.DataFrame(datamart_pca, columns=[\"PCA1\", \"PCA2\"])\n",
        "  datamart_pca[\"Clusters\"] = clusters\n",
        "\n",
        "  pca.fit(centers)\n",
        "  centers_pca = pca.transform(centers)\n",
        "  \n",
        "\n",
        "  plt.figure(figsize=(10,120))\n",
        "  plt.subplot(15,1,i)\n",
        "  plt.scatter(datamart_pca[\"PCA1\"], datamart_pca[\"PCA2\"], c=clusters, s=25, cmap='brg')\n",
        "  plt.scatter(centers_pca[:, 0], centers_pca[:, 1], c='black', marker=\"o\", s=200, alpha=0.8)\n",
        "\n",
        "\n",
        "  plt.title('Number of Clusters: {}'.format(i))"
      ],
      "execution_count": null,
      "outputs": []
    },
    {
      "cell_type": "code",
      "metadata": {
        "id": "J2t16oUfR7aR"
      },
      "source": [
        "# k means\n",
        "important_clusters = [3, 8, 11, 15]\n",
        "for i in important_clusters:\n",
        "  kmeans = KMeans(n_clusters=i, random_state=1)\n",
        "  datamart_normalized_multiple['cluster'] = kmeans.fit_predict(datamart_normalized[['Recency', 'MonetaryValue']])\n",
        "  clusters= kmeans.predict(datamart_normalized[['Recency', 'MonetaryValue']])\n",
        "\n",
        "  # get centroids\n",
        "  centroids = kmeans.cluster_centers_\n",
        "  cen_x = [j[0] for j in centroids] \n",
        "  cen_y = [j[1] for j in centroids]\n",
        "\n",
        "  ## add to datamart_normalized_multiple\n",
        "  datamart_normalized_multiple['cen_x'] = datamart_normalized_multiple.cluster.map({0:cen_x[0], 1:cen_x[1], 2:cen_x[2]})\n",
        "  datamart_normalized_multiple['cen_y'] = datamart_normalized_multiple.cluster.map({0:cen_y[0], 1:cen_y[1], 2:cen_y[2]})\n",
        "\n",
        "  #####PLOT#####\n",
        "  plt.figure(figsize=(10,120))\n",
        "  plt.subplot(15,1,i)\n",
        "\n",
        "  plt.scatter(datamart_normalized_multiple.Recency, datamart_normalized_multiple.MonetaryValue, c=clusters, cmap=\"brg\", alpha = 0.6, s=10)\n",
        "  \n",
        "  plt.scatter(cen_x, cen_y, marker='^', c=\"black\", s=100, alpha=0.5)\n",
        " \n",
        "  # title and labels\n",
        "  plt.title('\\nRecency - MonetaryValue\\nNumber of Clusters: {}'.format(i))\n",
        "  plt.xlabel('Recency')\n",
        "  plt.ylabel('MonetaryValue')\n",
        "\n"
      ],
      "execution_count": null,
      "outputs": []
    },
    {
      "cell_type": "code",
      "metadata": {
        "id": "wB92H9OfSQGW"
      },
      "source": [
        "# k means\n",
        "important_clusters = [3, 8, 11, 15]\n",
        "for i in important_clusters:\n",
        "  kmeans = KMeans(n_clusters=i, random_state=1)\n",
        "  datamart_normalized_multiple['cluster'] = kmeans.fit_predict(datamart_normalized[['Tenure', 'MonetaryValue']])\n",
        "  clusters= kmeans.predict(datamart_normalized[['Tenure', 'MonetaryValue']])\n",
        "\n",
        "  # get centroids\n",
        "  centroids = kmeans.cluster_centers_\n",
        "  cen_x = [j[0] for j in centroids] \n",
        "  cen_y = [j[1] for j in centroids]\n",
        "\n",
        "  ## add to datamart_normalized_multiple\n",
        "  datamart_normalized_multiple['cen_x'] = datamart_normalized_multiple.cluster.map({0:cen_x[0], 1:cen_x[1], 2:cen_x[2]})\n",
        "  datamart_normalized_multiple['cen_y'] = datamart_normalized_multiple.cluster.map({0:cen_y[0], 1:cen_y[1], 2:cen_y[2]})\n",
        "\n",
        "  #####PLOT#####\n",
        "  plt.figure(figsize=(10,120))\n",
        "  plt.subplot(15,1,i)\n",
        "\n",
        "  plt.scatter(datamart_normalized_multiple.Tenure, datamart_normalized_multiple.MonetaryValue, c=clusters, cmap=\"brg\", alpha = 0.6, s=10)\n",
        "  \n",
        "  plt.scatter(cen_x, cen_y, marker='^', c=\"black\", s=100, alpha=0.5)\n",
        " \n",
        "  # title and labels\n",
        "  plt.title('\\nTenure - MonetaryValue\\nNumber of Clusters: {}'.format(i))\n",
        "  plt.xlabel('Tenure')\n",
        "  plt.ylabel('MonetaryValue')"
      ],
      "execution_count": null,
      "outputs": []
    },
    {
      "cell_type": "code",
      "metadata": {
        "id": "jLKBecwUYUYx"
      },
      "source": [
        "# k means\n",
        "important_clusters = [3, 8, 11, 15]\n",
        "for i in important_clusters:\n",
        "  kmeans = KMeans(n_clusters=i, random_state=1)\n",
        "  datamart_normalized_multiple['cluster'] = kmeans.fit_predict(datamart_normalized[['Tenure', 'Recency']])\n",
        "  clusters= kmeans.predict(datamart_normalized[['Tenure', 'Recency']])\n",
        "\n",
        "  # get centroids\n",
        "  centroids = kmeans.cluster_centers_\n",
        "  cen_x = [j[0] for j in centroids] \n",
        "  cen_y = [j[1] for j in centroids]\n",
        "\n",
        "  ## add to datamart_normalized_multiple\n",
        "  datamart_normalized_multiple['cen_x'] = datamart_normalized_multiple.cluster.map({0:cen_x[0], 1:cen_x[1], 2:cen_x[2]})\n",
        "  datamart_normalized_multiple['cen_y'] = datamart_normalized_multiple.cluster.map({0:cen_y[0], 1:cen_y[1], 2:cen_y[2]})\n",
        "\n",
        "  #####PLOT#####\n",
        "  plt.figure(figsize=(10,120))\n",
        "  plt.subplot(15,1,i)\n",
        "\n",
        "  plt.scatter(datamart_normalized_multiple.Tenure, datamart_normalized_multiple.Recency, c=clusters, cmap=\"brg\", alpha = 0.6, s=10)\n",
        "  \n",
        "  plt.scatter(cen_x, cen_y, marker='^', c=\"black\", s=100, alpha=0.5)\n",
        " \n",
        "  # title and labels\n",
        "  plt.title('\\nTenure - Recency\\nNumber of Clusters: {}'.format(i))\n",
        "  plt.xlabel('Tenure')\n",
        "  plt.ylabel('Recency')"
      ],
      "execution_count": null,
      "outputs": []
    },
    {
      "cell_type": "markdown",
      "metadata": {
        "id": "DVCKbHdklGQv"
      },
      "source": [
        "#### Descriptive Analysis of K-means Clusters"
      ]
    },
    {
      "cell_type": "markdown",
      "metadata": {
        "id": "5BfkI44NnNHI"
      },
      "source": [
        "Statistical values and snake plots are generated to help to determine labels of clusters."
      ]
    },
    {
      "cell_type": "code",
      "metadata": {
        "id": "r45bYmQFjsSv"
      },
      "source": [
        "datamart_k8_stat = datamart.assign(Cluster = labels)"
      ],
      "execution_count": null,
      "outputs": []
    },
    {
      "cell_type": "code",
      "metadata": {
        "id": "D2kzQSqAj7Na"
      },
      "source": [
        "datamart_k8_stat.groupby([\"Cluster\"]).agg({\n",
        "    \"Recency\": [\"mean\", \"std\"],\n",
        "    \"MonetaryValue\": [\"mean\", \"std\"],\n",
        "    \"Tenure\": [\"mean\", \"std\", \"count\"],\n",
        "}).round(0)"
      ],
      "execution_count": null,
      "outputs": []
    },
    {
      "cell_type": "code",
      "metadata": {
        "id": "LQ_so1BnrfDv"
      },
      "source": [
        "datamart_normalized_k8 = datamart_normalized.copy()"
      ],
      "execution_count": null,
      "outputs": []
    },
    {
      "cell_type": "code",
      "metadata": {
        "id": "RIdreJ_Aohvm"
      },
      "source": [
        "datamart_normalized_k8[\"Cluster\"] = datamart_k8_stat[\"Cluster\"]"
      ],
      "execution_count": null,
      "outputs": []
    },
    {
      "cell_type": "code",
      "metadata": {
        "id": "Awtxf6SHluOB"
      },
      "source": [
        "datamart_melt = pd.melt(datamart_normalized_k8.reset_index(),\n",
        "                        id_vars= [\"ownerid\", \"Cluster\"],\n",
        "                        value_vars= [\"Recency\", \"MonetaryValue\", \"Tenure\"],\n",
        "                        var_name= \"Attribute\",\n",
        "                        value_name= \"Value\") "
      ],
      "execution_count": null,
      "outputs": []
    },
    {
      "cell_type": "code",
      "metadata": {
        "id": "hHtqYw-Qobls"
      },
      "source": [
        "plt.title(\"Snake Plot of Standardized Variables\")\n",
        "sns.lineplot(x=\"Attribute\", y=\"Value\", hue=\"Cluster\", data=datamart_melt)"
      ],
      "execution_count": null,
      "outputs": []
    },
    {
      "cell_type": "code",
      "metadata": {
        "id": "0xm6DaZymfhV"
      },
      "source": [
        "  important_clusters = [3, 8, 11, 15]\n",
        "  for i in important_clusters:\n",
        "    kmeans = KMeans(n_clusters=i, n_init=20, random_state=1)\n",
        "    datamart_k = kmeans.fit(datamart_normalized)\n",
        "\n",
        "    labels = kmeans.labels_\n",
        "    centers= kmeans.cluster_centers_\n",
        "    clusters= kmeans.predict(datamart_normalized)\n",
        "\n",
        "    from sklearn.decomposition import PCA\n",
        "    pca = PCA(n_components=2, random_state=1)\n",
        "    pca.fit(datamart_normalized)\n",
        "\n",
        "    datamart_pca = pca.transform(datamart_normalized)\n",
        "\n",
        "    datamart_pca = pd.DataFrame(datamart_pca, columns=[\"PCA1\", \"PCA2\"])\n",
        "    datamart_pca[\"Clusters\"] = clusters\n",
        "\n",
        "    pca.fit(centers)\n",
        "    centers_pca = pca.transform(centers)\n",
        "\n",
        "    plt.figure(figsize=(14,10))\n",
        "    sns.scatterplot(datamart_pca[\"PCA1\"], datamart_pca[\"PCA2\"], hue=clusters, s=25, palette=\"brg\")\n",
        "    sns.scatterplot(centers_pca[:, 0], centers_pca[:, 1], marker=\"o\", s=200, alpha=0.8);\n",
        "\n",
        "    plt.xlabel(\"PCA1\")\n",
        "    plt.ylabel(\"PCA2\")\n",
        "\n",
        "    plt.show()\n",
        "\n",
        "    datamart_k = datamart.assign(Cluster = labels)\n",
        "\n",
        "    datamart_summary = datamart_k.groupby([\"Cluster\"]).agg({\n",
        "      \"Recency\": [\"mean\", \"std\"],\n",
        "      \"MonetaryValue\": [\"mean\", \"std\", \"max\",],\n",
        "      \"Tenure\": [\"mean\", \"std\", \"count\"],\n",
        "    }).round(0)\n",
        "\n",
        "    print('\\t\\t\\tNumber of Cluster {}\\n'.format(i))\n",
        "    print(datamart_summary)\n",
        "    print(\"\\n\")"
      ],
      "execution_count": null,
      "outputs": []
    },
    {
      "cell_type": "markdown",
      "metadata": {
        "id": "D5Y7qj-PpXe0"
      },
      "source": [
        "#### Determination of Cluster Labels"
      ]
    },
    {
      "cell_type": "markdown",
      "metadata": {
        "id": "9fDFblFPsWuc"
      },
      "source": [
        "After a plenty of trials, cluster labels are determined based on the visualizations above and statistical values."
      ]
    },
    {
      "cell_type": "markdown",
      "metadata": {
        "id": "Dyk_6tg5oAVW"
      },
      "source": [
        "##### The Labels of Clusters for 3\n",
        "\n",
        "*   Cluster 0: VIP\n",
        "*   Cluster 1: Churn\n",
        "*   Cluster 2: Newcomers"
      ]
    },
    {
      "cell_type": "markdown",
      "metadata": {
        "id": "BiCqLBNhrlcA"
      },
      "source": [
        "##### The Labels of Clusters for 8\n",
        "\n",
        "*   Cluster 0: VIP             (LR-HM-HT)\n",
        "*   Cluster 1: Newest Passive  (HR-LM-LT)\n",
        "*   Cluster 2: Most Expensive Churn   (HR-HM-HT)\n",
        "*   Cluster 3: Just First Walk (HR-LM-HT)\n",
        "*   Cluster 4: Newcomers       (LR-LM-LT)\n",
        "*   Cluster 5: New VIP         (LR-HM-LT)\n",
        "*   Cluster 6: Old Passive     (HR-LM-HM)\n",
        "*   Cluster 7: New Passive     (HR-LM-LT)"
      ]
    },
    {
      "cell_type": "markdown",
      "metadata": {
        "id": "Aoc1HNTeUgOt"
      },
      "source": [
        "##### The Labels of Clusters for 15\n",
        "\n",
        "*   Cluster 0: New Passive -M-M (AC)\n",
        "*   Cluster 1: VIP\n",
        "*   Cluster 2: Newest VIP\n",
        "*   Cluster 3: Just First Walk (C)\n",
        "*   Cluster 4: Most Expensive Churn (C)\n",
        "*   Cluster 5: New VIP Candidate\n",
        "*   Cluster 6: Expensive Churn (C)\n",
        "*   Cluster 7: New Just a few walks (AC)\n",
        "*   Cluster 8: New VIP\n",
        "*   Cluster 9: Old active -M\n",
        "*   Cluster 10: VIP -R\n",
        "*   Cluster 11: Old Passive -M-M-M (AC)\n",
        "*   Cluster 12: Newest\n",
        "*   Cluster 13: Just a few walks +M (C)\n",
        "*   Cluster 14: Just a few walks +T (C)\n"
      ]
    },
    {
      "cell_type": "markdown",
      "metadata": {
        "id": "iqrRKGbNCh29"
      },
      "source": [
        "### Distance to Cluster Center"
      ]
    },
    {
      "cell_type": "markdown",
      "metadata": {
        "id": "enL3yn8TetbU"
      },
      "source": [
        "There are some different approaches to comparing distance. In this chapter, all distances are calculated for each cluster points to cluster centroids. Because of that, the smallest distance and sum of squared distance are used for this analysis."
      ]
    },
    {
      "cell_type": "code",
      "metadata": {
        "id": "CJPr2nedObVc"
      },
      "source": [
        "kmeans = KMeans(n_clusters=8, n_init=20, random_state=1)\n",
        "datamart_k = kmeans.fit(datamart_normalized)\n",
        "\n",
        "labels = kmeans.labels_\n",
        "centers= kmeans.cluster_centers_\n",
        "centroids= kmeans.predict(datamart_normalized)"
      ],
      "execution_count": null,
      "outputs": []
    },
    {
      "cell_type": "code",
      "metadata": {
        "id": "NuLCP1GSI0al"
      },
      "source": [
        "#Distance to cluster center\n",
        "X_dist = kmeans.transform(datamart_normalized)\n",
        "\n",
        "X_dist"
      ],
      "execution_count": null,
      "outputs": []
    },
    {
      "cell_type": "code",
      "metadata": {
        "id": "2WY5KxzoWcOY"
      },
      "source": [
        "df_dist = pd.DataFrame(X_dist)\n",
        "df_dist['Cluster'] = centroids\n",
        "df_dist"
      ],
      "execution_count": null,
      "outputs": []
    },
    {
      "cell_type": "code",
      "metadata": {
        "id": "_O9SZbIFMPPQ"
      },
      "source": [
        "X_dist_min = X_dist.min(1)\n",
        "X_dist_min"
      ],
      "execution_count": null,
      "outputs": []
    },
    {
      "cell_type": "code",
      "metadata": {
        "id": "9r0umiWAFxe6"
      },
      "source": [
        "'''# squared distance to cluster center\n",
        "X_sqdist = kmeans.transform(datamart_normalized)**2\n",
        "\n",
        "\n",
        "import pandas as pd\n",
        "df_dist_min = pd.DataFrame(X_dist_min.sum(axis=1).round(2), columns=['sqdist'])\n",
        "df_dist_min['label'] = centroids\n",
        "\n",
        "df_dist_min.head(10)'''"
      ],
      "execution_count": null,
      "outputs": []
    },
    {
      "cell_type": "code",
      "metadata": {
        "id": "Hkc-qigqGQG9"
      },
      "source": [
        "sum_sq_dist = X_dist.sum(axis=1).round(2)"
      ],
      "execution_count": null,
      "outputs": []
    },
    {
      "cell_type": "code",
      "metadata": {
        "id": "asoZ_62EGHLq"
      },
      "source": [
        "datamart_k8_dist = datamart_k8_stat.assign(MinDistance = X_dist_min)\n",
        "datamart_k8_dist"
      ],
      "execution_count": null,
      "outputs": []
    },
    {
      "cell_type": "code",
      "metadata": {
        "id": "X75XuJEUGNbi"
      },
      "source": [
        "df_dist = df_dist.assign(MinDistance = X_dist_min)\n",
        "df_dist"
      ],
      "execution_count": null,
      "outputs": []
    },
    {
      "cell_type": "code",
      "metadata": {
        "id": "mmdlqip_KwSO"
      },
      "source": [
        "datamart_k8_dist = datamart_k8_dist.assign(SumofSquareDistance = sum_sq_dist)\n",
        "datamart_k8_dist = datamart_k8_dist.reset_index()\n",
        "datamart_k8_dist"
      ],
      "execution_count": null,
      "outputs": []
    },
    {
      "cell_type": "code",
      "metadata": {
        "id": "Zdg0tAekEUKh"
      },
      "source": [
        "df_k8_dist = pd.merge(datamart_k8_dist, df_dist.drop_duplicates(\"MinDistance\"), left_on=\"MinDistance\", right_on=\"MinDistance\", how=\"left\")\n",
        "df_k8_dist.sort_values(\"MinDistance\")"
      ],
      "execution_count": null,
      "outputs": []
    },
    {
      "cell_type": "code",
      "metadata": {
        "id": "phhxK56vfmIF"
      },
      "source": [
        "df_k8_dist = df_k8_dist.drop(\"Cluster_y\", axis=1)\n",
        "df_k8_dist = df_k8_dist.rename(columns={\"Cluster_x\": \"Cluster\"})\n",
        "df_k8_dist"
      ],
      "execution_count": null,
      "outputs": []
    },
    {
      "cell_type": "code",
      "metadata": {
        "id": "Zhp3ZutQFh3t"
      },
      "source": [
        "'''from google.colab import files\n",
        "datamart_k8_dist.to_csv('DogGo_CS_k8_dist.csv') \n",
        "files.download('DogGo_CS_k8_dist.csv')'''"
      ],
      "execution_count": null,
      "outputs": []
    },
    {
      "cell_type": "markdown",
      "metadata": {
        "id": "rVlmn2MPlm_b"
      },
      "source": [
        "First five customers that has smallest distance for each cluster are listed below."
      ]
    },
    {
      "cell_type": "code",
      "metadata": {
        "id": "idu2AU_4Og4K"
      },
      "source": [
        "for i in range(8):\n",
        "  print(df_k8_dist[df_k8_dist[\"Cluster\"] == i].sort_values([\"MinDistance\"]).head(5))"
      ],
      "execution_count": null,
      "outputs": []
    },
    {
      "cell_type": "markdown",
      "metadata": {
        "id": "0SSYJBmh5IAV"
      },
      "source": [
        "##### Distance Matrix of Centroids"
      ]
    },
    {
      "cell_type": "code",
      "metadata": {
        "id": "RCTUvSJQ5V8i"
      },
      "source": [
        "centers"
      ],
      "execution_count": null,
      "outputs": []
    },
    {
      "cell_type": "code",
      "metadata": {
        "id": "qafkOvif5PjM"
      },
      "source": [
        "df_dist_centers = pd.DataFrame(centers, columns=['xcord', 'ycord', 'zcord'])"
      ],
      "execution_count": null,
      "outputs": []
    },
    {
      "cell_type": "code",
      "metadata": {
        "id": "WiykI2X85xuZ"
      },
      "source": [
        "from scipy.spatial import distance_matrix\n",
        "df_dist_matrix_centers = pd.DataFrame(distance_matrix(df_dist_centers.values, df_dist_centers.values), index=df_dist_centers.index, columns=df_dist_centers.index)"
      ],
      "execution_count": null,
      "outputs": []
    },
    {
      "cell_type": "code",
      "metadata": {
        "id": "writIKoosI0p"
      },
      "source": [
        "df_dist_matrix_centers"
      ],
      "execution_count": null,
      "outputs": []
    },
    {
      "cell_type": "markdown",
      "metadata": {
        "id": "XYWVHgMx4Gre"
      },
      "source": [
        "###Analysis of Similarity"
      ]
    },
    {
      "cell_type": "markdown",
      "metadata": {
        "id": "ByFJpRiNg_dw"
      },
      "source": [
        "To ensure each customer is in the correct cluster, the similarity between each point in a cluster. It can be helpful to realize a wrong cluster point. As a first step similarity function is generated. Next, similarities are calculated for each cluster and some statistical features are calculated to . Similarity heat maps are plotted to visualize these analyses."
      ]
    },
    {
      "cell_type": "code",
      "metadata": {
        "id": "NpTq2jXJ4Ku1"
      },
      "source": [
        "import math\n",
        "\n",
        "from matplotlib import pyplot as plt\n",
        "import numpy as np\n",
        "import numpy.linalg as nla\n",
        "import pandas as pd\n",
        "import seaborn as sns\n",
        "import altair as alt\n",
        "import re\n",
        "import pdb  # for Python debugger\n",
        "import sys\n",
        "from os.path import join"
      ],
      "execution_count": null,
      "outputs": []
    },
    {
      "cell_type": "code",
      "metadata": {
        "id": "d8Rw4AdCr7dJ"
      },
      "source": [
        "datamart_normalized_tf = datamart_normalized.copy()\n",
        "datamart_normalized_tf = datamart_normalized_tf.reset_index()\n",
        "datamart_normalized_tf = datamart_normalized_tf.drop(\"ownerid\", axis=1)\n",
        "datamart_normalized_tf2 = datamart_normalized_tf.copy()\n",
        "datamart_normalized_tf2\n"
      ],
      "execution_count": null,
      "outputs": []
    },
    {
      "cell_type": "code",
      "metadata": {
        "id": "sOQBs9r6wKve"
      },
      "source": [
        "def getSimilarity(obj1, obj2):\n",
        "  len1 = len(obj1.index)\n",
        "  len2 = len(obj2.index)\n",
        "  if not (len1 == len2):\n",
        "    print (\"Error: Compared objects must have same number of features.\")\n",
        "    sys.exit()\n",
        "    return 0\n",
        "  else:\n",
        "    similarity = obj1 - obj2\n",
        "    similarity = np.sum((similarity**2.0) / 10)\n",
        "    similarity = 1 - math.sqrt(similarity)\n",
        "    return similarity"
      ],
      "execution_count": null,
      "outputs": []
    },
    {
      "cell_type": "code",
      "metadata": {
        "id": "nJfmJsGv44Pn"
      },
      "source": [
        "datamart_tf = datamart.copy()\n",
        "datamart_tf = datamart_tf.reset_index()\n",
        "datamart_tf = datamart_tf.drop(\"ownerid\", axis=1)"
      ],
      "execution_count": null,
      "outputs": []
    },
    {
      "cell_type": "code",
      "metadata": {
        "id": "RywhlRW6kSK8"
      },
      "source": [
        "def similarityHeatMapStats(df, cluster_number):\n",
        "  datamart_sim = df.copy()\n",
        "  datamart_sim[\"Cluster\"] = centroids\n",
        "  datamart_sim = datamart_sim.reset_index()\n",
        "  datamart_sim = datamart_sim.drop(\"ownerid\", axis=1)\n",
        "  datamart_sim_c = datamart_sim[datamart_sim[\"Cluster\"] == cluster_number]\n",
        "  datamart_sim_c = datamart_sim_c.drop(\"Cluster\", axis=1)\n",
        "  datamart_sim_c = datamart_sim_c.reset_index()\n",
        "  datamart_sim_c = datamart_sim_c.drop(\"index\", axis=1)\n",
        "  datamart_sim_c\n",
        "\n",
        "  mat2 = []\n",
        "  owner1 = 0\n",
        "  ownersToCompare = [0, len(datamart_sim_c)-1]\n",
        "  for ij in range(ownersToCompare[0], ownersToCompare[1] + 1):\n",
        "    for ii in range(ownersToCompare[0], ownersToCompare[1] + 1):\n",
        "      mat2.append(getSimilarity(datamart_sim_c.loc[ij], datamart_sim_c.loc[ii]))\n",
        "\n",
        "  Yrows = []\n",
        "  for i in range(1,len(datamart_sim_c)+1):\n",
        "    for j in range(1,len(datamart_sim_c)+1):\n",
        "      Yrows.append(i)\n",
        "\n",
        "  Xcols = []\n",
        "  for i in range(1,len(datamart_sim_c)+1):\n",
        "    for j in range(1,len(datamart_sim_c)+1):\n",
        "      Xcols.append(j)\n",
        "\n",
        "  df_mat = pd.DataFrame(mat2, columns=[\"M\"])\n",
        "  df_mat[\"Yrows\"] = Yrows\n",
        "  df_mat[\"Xcols\"] = Xcols\n",
        "  df_mat.sort_values(\"M\")\n",
        "\n",
        "  matrix = ((np.asarray(df_mat[\"M\"])).reshape(len(datamart_sim_c), len(datamart_sim_c)))\n",
        "  matrix_xcols = ((np.asarray(df_mat[\"Xcols\"])).reshape(len(datamart_sim_c), len(datamart_sim_c)))\n",
        "\n",
        "  result = df_mat.pivot(index=\"Yrows\", columns=\"Xcols\", values=\"M\")\n",
        "\n",
        "  labels = (np.asarray([\"{0} \\n {1:.2f}\".format(symb, value) for symb, value in zip(matrix_xcols.flatten(), matrix.flatten())])).reshape(len(datamart_sim_c), len(datamart_sim_c))\n",
        "\n",
        "  '''fig, ax = plt.subplots(figsize=(120,90))\n",
        "\n",
        "  title = \"Similarity Heat Map\"\n",
        "\n",
        "  plt.title(title, fontsize=60)\n",
        "  ttl = ax.title\n",
        "  ttl.set_position([0.5,1.05])\n",
        "\n",
        "  ax.set_xticks([])\n",
        "  ax.set_yticks([])\n",
        "\n",
        "  ax.axis(\"off\")\n",
        "\n",
        "  sns.heatmap(result, annot=labels, fmt=\"\", cmap=\"RdYlGn\", linewidths=0.30, ax=ax)\n",
        "\n",
        "  plt.show()'''\n",
        "\n",
        "  print(\"Cluster: \", cluster_number)\n",
        "  print(\"Max value: \", max(mat2))\n",
        "  print(\"Min value: \", min(mat2))\n",
        "  print(\"Mean value: \", statistics.mean(mat2))\n",
        "  print(\"Mode value: \", statistics.mode(mat2))\n",
        "  print(\"Number of elements: \", len(datamart_sim_c))\n",
        "  print(\"\\n\")"
      ],
      "execution_count": null,
      "outputs": []
    },
    {
      "cell_type": "code",
      "metadata": {
        "id": "aE1VQG7SyMsP"
      },
      "source": [
        "for i in range(0, 8):\n",
        "  similarityHeatMapStats(datamart_normalized, i)"
      ],
      "execution_count": null,
      "outputs": []
    },
    {
      "cell_type": "markdown",
      "metadata": {
        "id": "ZO7BnCSFj6uy"
      },
      "source": [
        "Within these 7 gruops, the best cluster is cluster 2, because it has higher mean value. The worst cluster is 3 that has lowest mean and min value."
      ]
    },
    {
      "cell_type": "code",
      "metadata": {
        "id": "uDeffxXwrx0J"
      },
      "source": [
        "def similarityHeatMap(df, cluster_number):\n",
        "  datamart_sim = df.copy()\n",
        "  datamart_sim[\"Cluster\"] = centroids\n",
        "  datamart_sim = datamart_sim.reset_index()\n",
        "  datamart_sim = datamart_sim.drop(\"ownerid\", axis=1)\n",
        "  datamart_sim_c = datamart_sim[datamart_sim[\"Cluster\"] == cluster_number]\n",
        "  datamart_sim_c = datamart_sim_c.drop(\"Cluster\", axis=1)\n",
        "  datamart_sim_c = datamart_sim_c.reset_index()\n",
        "  datamart_sim_c = datamart_sim_c.drop(\"index\", axis=1)\n",
        "  datamart_sim_c\n",
        "\n",
        "  mat2 = []\n",
        "  owner1 = 0\n",
        "  ownersToCompare = [0, len(datamart_sim_c)-1]\n",
        "  for ij in range(ownersToCompare[0], ownersToCompare[1] + 1):\n",
        "    for ii in range(ownersToCompare[0], ownersToCompare[1] + 1):\n",
        "      mat2.append(getSimilarity(datamart_sim_c.loc[ij], datamart_sim_c.loc[ii]))\n",
        "\n",
        "  Yrows = []\n",
        "  for i in range(1,len(datamart_sim_c)+1):\n",
        "    for j in range(1,len(datamart_sim_c)+1):\n",
        "      Yrows.append(i)\n",
        "\n",
        "  Xcols = []\n",
        "  for i in range(1,len(datamart_sim_c)+1):\n",
        "    for j in range(1,len(datamart_sim_c)+1):\n",
        "      Xcols.append(j)\n",
        "\n",
        "  df_mat = pd.DataFrame(mat2, columns=[\"M\"])\n",
        "  df_mat[\"Yrows\"] = Yrows\n",
        "  df_mat[\"Xcols\"] = Xcols\n",
        "  df_mat.sort_values(\"M\")\n",
        "\n",
        "  matrix = ((np.asarray(df_mat[\"M\"])).reshape(len(datamart_sim_c), len(datamart_sim_c)))\n",
        "  matrix_xcols = ((np.asarray(df_mat[\"Xcols\"])).reshape(len(datamart_sim_c), len(datamart_sim_c)))\n",
        "\n",
        "  result = df_mat.pivot(index=\"Yrows\", columns=\"Xcols\", values=\"M\")\n",
        "\n",
        "  labels = (np.asarray([\"{0} \\n {1:.2f}\".format(symb, value) for symb, value in zip(matrix_xcols.flatten(), matrix.flatten())])).reshape(len(datamart_sim_c), len(datamart_sim_c))\n",
        "\n",
        "  fig, ax = plt.subplots(figsize=(90,60))\n",
        "\n",
        "  title = \"Similarity Heat Map\"\n",
        "\n",
        "  plt.title(title, fontsize=60)\n",
        "  ttl = ax.title\n",
        "  ttl.set_position([0.5,1.05])\n",
        "\n",
        "  ax.set_xticks([])\n",
        "  ax.set_yticks([])\n",
        "\n",
        "  ax.axis(\"off\")\n",
        "\n",
        "  sns.heatmap(result, annot=labels, fmt=\"\", cmap=\"RdYlGn\", linewidths=0.30, ax=ax)\n",
        "\n",
        "  plt.show()\n",
        "\n",
        "  print(\"Cluster: \", cluster_number)\n",
        "  print(\"Max value: \", max(mat2))\n",
        "  print(\"Min value: \", min(mat2))\n",
        "  print(\"Mean value: \", statistics.mean(mat2))\n",
        "  print(\"Mode value: \", statistics.mode(mat2))\n",
        "  print(\"Number of elements: \", len(datamart_sim_c))\n",
        "  print(\"\\n\")"
      ],
      "execution_count": null,
      "outputs": []
    },
    {
      "cell_type": "markdown",
      "metadata": {
        "id": "PfkeAhSimXQr"
      },
      "source": [
        "Similarity Heat Map is plotted for cluster 11 to understand the worst cluster based on similarity."
      ]
    },
    {
      "cell_type": "code",
      "metadata": {
        "id": "TedAk6ZKsPlD"
      },
      "source": [
        "similarityHeatMap(datamart_normalized, 6)"
      ],
      "execution_count": null,
      "outputs": []
    },
    {
      "cell_type": "code",
      "metadata": {
        "id": "FAid14hKS0iW"
      },
      "source": [
        "'''datamart_sim = datamart_normalized.copy()\n",
        "datamart_sim[\"Cluster\"] = centroids\n",
        "datamart_sim = datamart_sim.reset_index()\n",
        "datamart_sim = datamart_sim.drop(\"ownerid\", axis=1)\n",
        "datamart_sim_zero = datamart_sim[datamart_sim[\"Cluster\"] == 1]\n",
        "datamart_sim_zero = datamart_sim_zero.drop(\"Cluster\", axis=1)\n",
        "datamart_sim_zero = datamart_sim_zero.reset_index()\n",
        "datamart_sim_zero = datamart_sim_zero.drop(\"index\", axis=1)\n",
        "datamart_sim_zero'''\n"
      ],
      "execution_count": null,
      "outputs": []
    },
    {
      "cell_type": "code",
      "metadata": {
        "id": "e8oaYR-BwNXk"
      },
      "source": [
        "'''owner1 = 0\n",
        "ownersToCompare = [1, 4]\n",
        "\n",
        "print (\"Similarity between owners \" + str(owner1) + \" and ...\")\n",
        "\n",
        "for ii in range(ownersToCompare[0], ownersToCompare[1] + 1):\n",
        "  print (str(ii) + \": \" + str(getSimilarity(datamart_sim_zero.loc[owner1], datamart_sim_zero.loc[ii])))\n",
        "\n",
        "print (\"\\n\\nFeature data for owner \" + str(owner1))\n",
        "print (datamart_tf.loc[owner1:owner1, :])\n",
        "print (\"\\n\\nFeature data for compared owners \" + str(ownersToCompare))\n",
        "print (datamart_tf.loc[ownersToCompare[0]:ownersToCompare[1], :])'''"
      ],
      "execution_count": null,
      "outputs": []
    },
    {
      "cell_type": "code",
      "metadata": {
        "id": "0deFF0tkuj2l"
      },
      "source": [
        "'''mat0 = []\n",
        "\n",
        "owner1 = 0\n",
        "ownersToCompare = [0, 169]\n",
        "for ij in range(ownersToCompare[0], ownersToCompare[1] + 1):\n",
        "  mat1=[]\n",
        "  for ii in range(ownersToCompare[0], ownersToCompare[1] + 1):\n",
        "    mat1.append(getSimilarity(datamart_sim_zero.loc[ij], datamart_sim_zero.loc[ii]))\n",
        "  mat0.append(mat1)\n",
        "\n",
        "print(mat0)'''"
      ],
      "execution_count": null,
      "outputs": []
    },
    {
      "cell_type": "code",
      "metadata": {
        "id": "xDCB9jEUvV89"
      },
      "source": [
        "'''plt.imshow(mat0, cmap='hot', interpolation='nearest')\n",
        "plt.show()'''"
      ],
      "execution_count": null,
      "outputs": []
    },
    {
      "cell_type": "code",
      "metadata": {
        "id": "wRBoBokX2sEI"
      },
      "source": [
        "'''mat2 = []\n",
        "owner1 = 0\n",
        "ownersToCompare = [0, 169]\n",
        "for ij in range(ownersToCompare[0], ownersToCompare[1] + 1):\n",
        "  for ii in range(ownersToCompare[0], ownersToCompare[1] + 1):\n",
        "    mat2.append(getSimilarity(datamart_sim_zero.loc[ij], datamart_sim_zero.loc[ii]))'''"
      ],
      "execution_count": null,
      "outputs": []
    },
    {
      "cell_type": "code",
      "metadata": {
        "id": "uxZX-Ip6lYby"
      },
      "source": [
        "'''Yrows = []\n",
        "\n",
        "for i in range(1,171):\n",
        "  for j in range(1,171):\n",
        "    Yrows.append(i)'''"
      ],
      "execution_count": null,
      "outputs": []
    },
    {
      "cell_type": "code",
      "metadata": {
        "id": "yG4esLVIr552"
      },
      "source": [
        "'''Xcols = []\n",
        "\n",
        "for i in range(1,171):\n",
        "  for j in range(1,171):\n",
        "    Xcols.append(j)''' "
      ],
      "execution_count": null,
      "outputs": []
    },
    {
      "cell_type": "code",
      "metadata": {
        "id": "SUK3SUKrasx5"
      },
      "source": [
        "'''df_mat = pd.DataFrame(mat2, columns=[\"M\"])\n",
        "df_mat[\"Yrows\"] = Yrows\n",
        "df_mat[\"Xcols\"] = Xcols\n",
        "df_mat.sort_values(\"M\")'''"
      ],
      "execution_count": null,
      "outputs": []
    },
    {
      "cell_type": "code",
      "metadata": {
        "id": "PNoG8ErgbELu"
      },
      "source": [
        "'''matrix = ((np.asarray(df_mat[\"M\"])).reshape(170, 170))'''"
      ],
      "execution_count": null,
      "outputs": []
    },
    {
      "cell_type": "code",
      "metadata": {
        "id": "0xCxQO_jGY17"
      },
      "source": [
        "'''matrix_xcols = ((np.asarray(df_mat[\"Xcols\"])).reshape(170, 170))'''"
      ],
      "execution_count": null,
      "outputs": []
    },
    {
      "cell_type": "code",
      "metadata": {
        "id": "qdYHr2Ecc2Xt"
      },
      "source": [
        "#matrix"
      ],
      "execution_count": null,
      "outputs": []
    },
    {
      "cell_type": "code",
      "metadata": {
        "id": "feP7B793dIGO"
      },
      "source": [
        "#result = df_mat.pivot(index=\"Yrows\", columns=\"Xcols\", values=\"M\")"
      ],
      "execution_count": null,
      "outputs": []
    },
    {
      "cell_type": "code",
      "metadata": {
        "id": "W038nZDbdIB-"
      },
      "source": [
        "\n",
        "#labels = (np.asarray([\"{0} \\n {1:.2f}\".format(symb, value) for symb, value in zip(matrix_xcols.flatten(), matrix.flatten())])).reshape(170, 170)\n"
      ],
      "execution_count": null,
      "outputs": []
    },
    {
      "cell_type": "code",
      "metadata": {
        "id": "2yiDRiyBdHdb"
      },
      "source": [
        "'''fig, ax = plt.subplots(figsize=(240,240))\n",
        "\n",
        "title = \"Similarity Heat Map\"\n",
        "\n",
        "plt.title(title, fontsize=180)\n",
        "ttl = ax.title\n",
        "ttl.set_position([0.5,1.05])\n",
        "\n",
        "ax.set_xticks([])\n",
        "ax.set_yticks([])\n",
        "\n",
        "ax.axis(\"off\")\n",
        "\n",
        "sns.heatmap(result, annot=labels, fmt=\"\", cmap=\"RdYlGn\", linewidths=0.30, ax=ax)\n",
        "\n",
        "plt.show()'''"
      ],
      "execution_count": null,
      "outputs": []
    },
    {
      "cell_type": "markdown",
      "metadata": {
        "id": "YaI8Td1EoFpB"
      },
      "source": [
        "###Another Application of K-means"
      ]
    },
    {
      "cell_type": "markdown",
      "metadata": {
        "id": "yyCvqXREycls"
      },
      "source": [
        "In this chapter, k-means is applied like previous chapters, but distance to centroid is defined as loss. Firstly, clusters and distances are calculated and results are shown with some graphs below using related functions."
      ]
    },
    {
      "cell_type": "code",
      "metadata": {
        "id": "unYfgsppPsg2"
      },
      "source": [
        "datamart_tf"
      ],
      "execution_count": null,
      "outputs": []
    },
    {
      "cell_type": "code",
      "metadata": {
        "id": "E9K9Sn_SxxFR"
      },
      "source": [
        "def dfSimilarity(df, centroids, random_state=1):\n",
        "  ### dfSimilarity = Calculate similarities for dataframe input\n",
        "  ### We need to calculate ||a-b||^2 = |a|^2 + |b|^2 - 2*|a|*|b|\n",
        "  ### Implement this with matrix operations\n",
        "  ### See the Appendix for further explanation\n",
        "  numPoints = len(df.index)\n",
        "  numCentroids = len(centroids.index)\n",
        "  ## Strictly speaking, we don't need to calculate the norm of points\n",
        "  # because it adds a constant bias to distances\n",
        "  # But calculating it so that the similarity doesn't go negative\n",
        "  # And that we expect similarities in [0,1] which aids debugging\n",
        "  pointNorms = np.square(nla.norm(df, axis=1))\n",
        "  pointNorms = np.reshape(pointNorms, [numPoints, 1])\n",
        "  ## Calculate the norm of centroids\n",
        "  centroidNorms = np.square(nla.norm(centroids, axis=1))\n",
        "  centroidNorms = np.reshape(centroidNorms, (1, numCentroids))\n",
        "  ## Calculate |a|^2 + |b|^2 - 2*|a|*|b|\n",
        "  similarities = pointNorms + centroidNorms - 2.0 * np.dot(\n",
        "      df, np.transpose(centroids))\n",
        "  # Divide by the number of features\n",
        "  # Which is 10 because the one-hot encoding means the \"Maker\" and \"Bean\" are\n",
        "  # weighted twice\n",
        "  similarities = similarities / 3.0\n",
        "  # numerical artifacts lead to negligible but negative values that go to NaN on the root\n",
        "  similarities = similarities.clip(min=0.0)\n",
        "  # Square root since it's ||a-b||^2\n",
        "  similarities = np.sqrt(similarities)\n",
        "  return similarities\n",
        "\n",
        "\n",
        "def initCentroids(df, k, feature_cols, random_state=1):\n",
        "  # Pick 'k' examples are random to serve as initial centroids\n",
        "  limit = len(df.index)\n",
        "  centroids_key = np.random.randint(0, limit - 1, k)\n",
        "  centroids = df.loc[centroids_key, feature_cols].copy(deep=True)\n",
        "  # the indexes get copied over so reset them\n",
        "  centroids.reset_index(drop=True, inplace=True)\n",
        "  return centroids\n",
        "\n",
        "\n",
        "def pt2centroid(df, centroids, feature_cols, random_state=1):\n",
        "  ### Calculate similarities between all points and centroids\n",
        "  ### And assign points to the closest centroid + save that distance\n",
        "  numCentroids = len(centroids.index)\n",
        "  numExamples = len(df.index)\n",
        "  # dfSimilarity = Calculate similarities for dataframe input\n",
        "  dist = dfSimilarity(df.loc[:, feature_cols], centroids.loc[:, feature_cols])\n",
        "  df.loc[:, 'centroid'] = np.argmin(dist, axis=1)  # closest centroid\n",
        "  df.loc[:, 'pt2centroid'] = np.min(dist, axis=1)  # minimum distance\n",
        "  return df\n",
        "\n",
        "\n",
        "def recomputeCentroids(df, centroids, feature_cols, random_state=1):\n",
        "  ### For every centroid, recompute it as an average of the points\n",
        "  ### assigned to it\n",
        "  numCentroids = len(centroids.index)\n",
        "  for cen in range(numCentroids):\n",
        "    dfSubset = df.loc[df['centroid'] == cen,\n",
        "                      feature_cols]  # all points for centroid\n",
        "    if not (dfSubset.empty):  # if there are points assigned to the centroid\n",
        "      clusterAvg = np.sum(dfSubset) / len(dfSubset.index)\n",
        "      centroids.loc[cen] = clusterAvg\n",
        "  return centroids\n",
        "\n",
        "\n",
        "def kmeans(df, k, feature_cols, verbose, random_state=1):\n",
        "  flagConvergence = False\n",
        "  maxIter = 100\n",
        "  iter = 0  # ensure kmeans doesn't run for ever\n",
        "  centroids = initCentroids(df, k, feature_cols)\n",
        "  while not (flagConvergence):\n",
        "    iter += 1\n",
        "    #Save old mapping of points to centroids\n",
        "    oldMapping = df['centroid'].copy(deep=True)\n",
        "    # Perform k-means\n",
        "    df = pt2centroid(df, centroids, feature_cols)\n",
        "    centroids = recomputeCentroids(df, centroids, feature_cols)\n",
        "    # Check convergence by comparing [oldMapping, newMapping]\n",
        "    newMapping = df['centroid']\n",
        "    flagConvergence = all(oldMapping == newMapping)\n",
        "    if verbose == 1:\n",
        "      print ('Total distance:' + str(np.sum(df['pt2centroid'])))\n",
        "    if (iter > maxIter):\n",
        "      print ('k-means did not converge! Reached maximum iteration limit of ' \\\n",
        "            + str(maxIter) + '.')\n",
        "      sys.exit()\n",
        "      return\n",
        "  print ('k-means converged for ' + str(k) + ' clusters' + \\\n",
        "        ' after ' + str(iter) + ' iterations!')\n",
        "  return [df, centroids]"
      ],
      "execution_count": null,
      "outputs": []
    },
    {
      "cell_type": "code",
      "metadata": {
        "id": "3OXjEa8px8_S"
      },
      "source": [
        "k = 8\n",
        "\n",
        "feature_cols = datamart_normalized_tf.columns.values  # save original columns\n",
        "# initialize every point to an impossible value, the k+1 cluster\n",
        "datamart_normalized_tf['centroid'] = k\n",
        "# init the point to centroid distance to an impossible value \"2\" (>1)\n",
        "datamart_normalized_tf['pt2centroid'] = 2\n",
        "[datamart_normalized_tf, centroids] = kmeans(datamart_normalized_tf, k, feature_cols, 1)\n",
        "print(\"Data for the first few owners, with 'centroid' and 'pt2centroid' on\"\n",
        "      ' the extreme right:')\n",
        "datamart_normalized_tf.head(10)"
      ],
      "execution_count": null,
      "outputs": []
    },
    {
      "cell_type": "markdown",
      "metadata": {
        "id": "0f6ZIXDOzrfG"
      },
      "source": [
        "K-means is converged for 7 clusters after 13 iterations and clusters and distances are listed."
      ]
    },
    {
      "cell_type": "code",
      "metadata": {
        "id": "_GxJO0QA9XKT"
      },
      "source": [
        "def clusterCardinality(df, random_state=1):\n",
        "  k = np.max(df['centroid']) + 1\n",
        "  #k = k.astype(float)\n",
        "  print ('Number of clusters:' + str(k))\n",
        "  clCard = np.zeros(k)\n",
        "  for kk in range(k):\n",
        "    clCard[kk] = np.sum(df['centroid'] == kk)\n",
        "  clCard = clCard.astype(float)\n",
        "  # print \"Cluster Cardinality:\"+str(clCard)\n",
        "  plt.figure()\n",
        "  plt.bar(range(k), clCard)\n",
        "  plt.title('Cluster Cardinality')\n",
        "  plt.xlabel('Cluster Number: ' + str(0) + ' to ' + str(k - 1))\n",
        "  plt.ylabel('Points in Cluster')\n",
        "  return clCard\n",
        "\n",
        "\n",
        "def clusterMagnitude(df, random_state=1):\n",
        "  k = np.max(df['centroid']) + 1\n",
        "  #k = k.astype(float)\n",
        "  cl = np.zeros(k)\n",
        "  clMag = np.zeros(k)\n",
        "  for kk in range(k):\n",
        "    idx = np.where(df['centroid'] == kk)\n",
        "    idx = idx[0]\n",
        "    clMag[kk] = np.sum(df.loc[idx, 'pt2centroid'])\n",
        "  # print \"Cluster Magnitude:\",clMag #precision set using np pref\n",
        "  plt.figure()\n",
        "  plt.bar(range(k), clMag)\n",
        "  plt.title('Cluster Magnitude')\n",
        "  plt.xlabel('Cluster Number: ' + str(0) + ' to ' + str(k - 1))\n",
        "  plt.ylabel('Total Point-to-Centroid Distance')\n",
        "  return clMag\n",
        "\n",
        "\n",
        "def plotCardVsMag(clCard, clMag, random_state=1):\n",
        "  plt.figure()\n",
        "  plt.scatter(clCard, clMag)\n",
        "  plt.xlim(xmin=0)\n",
        "  plt.ylim(ymin=0)\n",
        "  plt.title('Magnitude vs Cardinality')\n",
        "  plt.ylabel('Magnitude')\n",
        "  plt.xlabel('Cardinality')\n",
        "\n",
        "\n",
        "def clusterQualityMetrics(df, random_state=1):\n",
        "  clCard = clusterCardinality(df)\n",
        "  clMag = clusterMagnitude(df)\n",
        "  plotCardVsMag(clCard, clMag)"
      ],
      "execution_count": null,
      "outputs": []
    },
    {
      "cell_type": "markdown",
      "metadata": {
        "id": "N5I_PLpTnaqU"
      },
      "source": [
        "The first graph shows that how many customers are in each cluster. The expectation is each cluster has a similar number of the customer. In other words, uniform distribution is the best situation. However, there is some fluctuation in the graph. Therefore, some trials could be done with a different number of clusters.\n",
        " \n",
        "The next graph shows the total point to centroid distance. Again, cluster 0 and cluster 1 have higher values than the others.\n",
        " \n",
        "The relationship between cluster cardinality and magnitude is shown in the last graph.\n"
      ]
    },
    {
      "cell_type": "code",
      "metadata": {
        "id": "7EGZArBJ9YfW"
      },
      "source": [
        "clusterQualityMetrics(datamart_normalized_tf)"
      ],
      "execution_count": null,
      "outputs": []
    },
    {
      "cell_type": "code",
      "metadata": {
        "id": "MnVFyRAB9heq"
      },
      "source": [
        "# Plot loss vs number of clusters\n",
        "def lossVsClusters(kmin, kmax, kstep, data, random_state=1):\n",
        "  kmax += 1  # include kmax-th cluster in range\n",
        "  kRange = range(kmin, kmax, kstep)\n",
        "  loss = np.zeros(len(kRange))\n",
        "  lossCtr = 0\n",
        "  for kk in kRange:\n",
        "    [data, centroids] = kmeans(data, kk, feature_cols, 0)\n",
        "    loss[lossCtr] = np.sum(data['pt2centroid'])\n",
        "    lossCtr += 1\n",
        "  plt.scatter(kRange, loss)\n",
        "  plt.title('Loss vs Clusters Used')\n",
        "  plt.xlabel('Number of clusters')\n",
        "  plt.ylabel('Total Point-to-Centroid Distance')\n",
        "\n",
        "\n",
        "kmin = 2\n",
        "kmax = 30  \n",
        "kstep = 1  \n",
        "lossVsClusters(kmin, kmax, kstep, datamart_normalized_tf, random_state=1)"
      ],
      "execution_count": null,
      "outputs": []
    },
    {
      "cell_type": "markdown",
      "metadata": {
        "id": "FoYgS6CU3Opx"
      },
      "source": [
        "The graph above is similar to the elbow method. It gives us some insights to choose the correct number of clusters. According to the graph, 10 is one of the ideal numbers. "
      ]
    },
    {
      "cell_type": "markdown",
      "metadata": {
        "id": "7ukgG87tecSo"
      },
      "source": [
        "### TensorFlow"
      ]
    },
    {
      "cell_type": "code",
      "metadata": {
        "id": "ynM5-kQLpxHY"
      },
      "source": [
        "import tensorflow as tf\n",
        "\n",
        "num_points = len(datamart_normalized_tf2.index)\n",
        "dimensions = len(datamart_normalized_tf2. columns)\n",
        "points = np.random.uniform(0, num_points, [num_points, dimensions])\n",
        "\n",
        "def input_fn():\n",
        "  return tf.compat.v1.train.limit_epochs(\n",
        "      tf.convert_to_tensor(datamart_normalized_tf2, dtype=tf.float32), num_epochs=5)\n",
        "\n",
        "num_clusters = 8\n",
        "kmeans = tf.compat.v1.estimator.experimental.KMeans(\n",
        "    num_clusters=num_clusters, use_mini_batch=False)\n",
        "\n",
        "# train\n",
        "num_iterations = 30\n",
        "previous_centers = None\n",
        "for _ in range(num_iterations):\n",
        "  kmeans.train(input_fn)\n",
        "  cluster_centers = kmeans.cluster_centers()\n",
        "  if previous_centers is not None:\n",
        "    print ('delta:', cluster_centers - previous_centers)\n",
        "  previous_centers = cluster_centers\n",
        "  print ('score:', kmeans.score(input_fn))\n",
        "print ('cluster centers:', cluster_centers)\n",
        "\n",
        "# map the input points to their clusters\n",
        "cluster_indices = list(kmeans.predict_cluster_index(input_fn))\n",
        "for i, point in enumerate(points):\n",
        "  cluster_index = cluster_indices[i]\n",
        "  center = cluster_centers[cluster_index]\n",
        "  print ('point:', point, 'is in cluster', cluster_index, 'centered at', center)"
      ],
      "execution_count": null,
      "outputs": []
    },
    {
      "cell_type": "markdown",
      "metadata": {
        "id": "D3DIRGCwN1zO"
      },
      "source": [
        "##Conclusion"
      ]
    },
    {
      "cell_type": "markdown",
      "metadata": {
        "id": "4YX04vLtNzVa"
      },
      "source": [
        "Nowadays, big data analytics is becoming more popular day by day and most innovative companies would like to improve their methods, processes using big data analytics’ techniques to obtain the best results. According to a research from Ducange et al. (2017), for any efficient and successful strategic marketing effort, getting and evaluating the useful insight buried behind the massive quantity of data available on social media is becoming a must. DogGo  is a start-up that understand the power of data. In this project, RFM based customer segmentation is carried out and clusters are labeled. With these results, DogGo can be identified their current customer and new ones and organized some specific campaigns for each group."
      ]
    },
    {
      "cell_type": "markdown",
      "metadata": {
        "id": "JsAUVzkIN_Q7"
      },
      "source": [
        "##Reference List"
      ]
    },
    {
      "cell_type": "markdown",
      "metadata": {
        "id": "sNYbgywWOL8m"
      },
      "source": [
        "Ducange, P., Pecori, R., & Mezzina, P. (2017). A glimpse on big data analytics in the framework of marketing strategies. Soft Computing, 22(1), 325–342. https://doi.org/10.1007/s00500-017-2536-4"
      ]
    }
  ]
}